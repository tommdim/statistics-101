{
 "cells": [
  {
   "cell_type": "markdown",
   "metadata": {},
   "source": [
    "# HW2\n",
    "## Exercise 01 | Deja vu\n",
    "## Tommaso Di Mario, Valeria Sepicacchi, Federica Valeau\n",
    "## 1)\n",
    "\n",
    "$ f(x\\,|\\,\\theta) = \\frac{\\theta^2}{x^3} \\cdot \\mathrm{e}^{-\\tfrac{\\theta}{x}}  \\quad \\text{for} \\quad x \\geqslant 0 $\n",
    "\n",
    "To find the maximum likelihood estimator we used the log-likelihood formula:\n",
    "$ \\hat{\\theta}_n =  \\arg \\max{\\theta \\in \\Theta } \\ (\\ell_n  \\ (\\theta | x_n ))$\n",
    "\n",
    "Finding the loglikelihood:\n",
    "$$\n",
    "\\ell_n  \\ (\\theta | x_n ) = \\sum_{i=1}^n \\ log \\ f( x_i | \\theta) \\ = \\sum_{i=1}^n  \\ log  \\ \\Big( \\ \\frac{\\theta^2}{x^3} \\cdot \\mathrm{e}^{-\\tfrac{\\theta}{x}}  \\ \\Big) \\ = \\sum_{i=1}^n  \\ log \\ \\theta^2 \\ - \\ log \\ \\Big( x^3_i \\ e^{\\frac{\\theta}{x_i}} \\Big) \\ = n \\ log \\ \\theta^2 \\ - \\sum_{i=1}^n  \\Big( log  \\ x^3_i \\ +  log \\ e^{\\frac{\\theta}{x_i}} \\Big) = \n",
    "\\\\ = 2n \\ log \\ \\theta \\ -  \\sum_{i=1}^n  \\ log \\ x^3_i \\ - \\sum_{i=1}^n  \\ \\frac{\\theta}{x_i} = \\ 2n \\ log \\ \\theta - \\sum_{i=1}^n  \\ log \\ x^3_i \\ - \\theta \\sum_{i=1}^n  x^{-1}_i\n",
    "$$\n",
    "\n",
    "Let's maximize the function by finding the derivative and setting it equal to 0\n",
    "\n",
    "$$\n",
    "\\frac{\\delta}{\\delta \\theta} \\ \\ell_n \\ (\\theta | x_n ) \\  = \\frac{\\delta}{\\delta \\theta} \\ \\Big( 2n \\ log \\ \\theta - \\sum_{i=1}^n  \\ log \\ x^3_i \\ - \\theta \\sum_{i=1}^n  x^{-1}_i \\Big) = \\frac{2n}{\\theta} - \\sum_{i=1}^n  x^{-1}_i = 0 \\\\\n",
    "\\frac{2n}{\\theta} = \\sum_{i=1}^n  x^{-1}_i \\quad \\quad \\quad \\quad \\quad \\quad \\hat{\\theta}_n = \\frac{2n}{\\sum_{i=1}^n  x^{-1}_i}\n",
    "$$"
   ]
  },
  {
   "cell_type": "code",
   "execution_count": 85,
   "metadata": {},
   "outputs": [],
   "source": [
    "# Some useful libraries\n",
    "import numpy as np\n",
    "import pandas as pd\n",
    "import seaborn as sb\n",
    "from scipy import stats as st\n",
    "import statsmodels.api as stmod\n",
    "import matplotlib.pyplot as plt"
   ]
  },
  {
   "cell_type": "code",
   "execution_count": 86,
   "metadata": {},
   "outputs": [
    {
     "data": {
      "text/plain": [
       "0       7.4\n",
       "1       8.0\n",
       "2      12.6\n",
       "3      11.5\n",
       "4      14.3\n",
       "       ... \n",
       "148     6.9\n",
       "149    13.2\n",
       "150    14.3\n",
       "151     8.0\n",
       "152    11.5\n",
       "Name: Wind, Length: 153, dtype: float64"
      ]
     },
     "execution_count": 86,
     "metadata": {},
     "output_type": "execute_result"
    }
   ],
   "source": [
    "# Let's look at the wind dataset\n",
    "df = pd.read_csv(\"airquality.csv\")\n",
    "df = df.Wind\n",
    "df"
   ]
  },
  {
   "cell_type": "code",
   "execution_count": 87,
   "metadata": {},
   "outputs": [
    {
     "data": {
      "text/plain": [
       "16.884195992600205"
      ]
     },
     "execution_count": 87,
     "metadata": {},
     "output_type": "execute_result"
    }
   ],
   "source": [
    "# Here we find the estimate of the MLE for the wind data\n",
    "\n",
    "def mle(data):\n",
    "    summ = 0\n",
    "    # a for loop to add all the summation values\n",
    "    for el in data:\n",
    "        summ += 1/el\n",
    "    # final formula\n",
    "    theta_hat = 2*len(data)/summ\n",
    "    return theta_hat\n",
    "\n",
    "mle(df)\n"
   ]
  },
  {
   "cell_type": "code",
   "execution_count": 88,
   "metadata": {},
   "outputs": [
    {
     "data": {
      "text/plain": [
       "-463.390317302354"
      ]
     },
     "execution_count": 88,
     "metadata": {},
     "output_type": "execute_result"
    }
   ],
   "source": [
    "# log-likelihood function with the new theta estimate\n",
    "\n",
    "def loglike(data, theta):\n",
    "    summ = 2*len(data)*np.log(theta)\n",
    "    for el in data:\n",
    "        summ -= np.log(el**3)\n",
    "        summ -= theta/el\n",
    "    return summ\n",
    "\n",
    "loglike(df, 16.884195992600205)"
   ]
  },
  {
   "cell_type": "code",
   "execution_count": 89,
   "metadata": {},
   "outputs": [
    {
     "data": {
      "text/plain": [
       "[<matplotlib.lines.Line2D at 0x7fad54ba8b20>]"
      ]
     },
     "execution_count": 89,
     "metadata": {},
     "output_type": "execute_result"
    },
    {
     "data": {
      "image/png": "[encoded data removed]",
      "text/plain": [
       "<Figure size 432x432 with 1 Axes>"
      ]
     },
     "metadata": {
      "needs_background": "light"
     },
     "output_type": "display_data"
    }
   ],
   "source": [
    "# We check that by plotting the log-likelihood function the maxiumum will occur at approximatly 17 \n",
    "\n",
    "theta = np.linspace(5,40,200)\n",
    "\n",
    "plt.title(label='Log-likelihood', \n",
    "          fontweight=10, \n",
    "          fontsize = 20,\n",
    "          pad='2.0')\n",
    "\n",
    "plt.rcParams['figure.figsize'] = [6, 6]\n",
    "plt.plot(theta,loglike(df, theta))   \n",
    "\n",
    "# The double check worked fine\n",
    " \n",
    " "
   ]
  },
  {
   "cell_type": "code",
   "execution_count": 90,
   "metadata": {},
   "outputs": [
    {
     "name": "stdout",
     "output_type": "stream",
     "text": [
      "1.0\n",
      "0\n"
     ]
    }
   ],
   "source": [
    "# We check if there are any null values and that the sum of densities sum to one\n",
    "obs_freq= df.value_counts(normalize = True).sort_index()\n",
    "print( np.sum(obs_freq))\n",
    "\n",
    "print(sum(df.isna()))"
   ]
  },
  {
   "cell_type": "code",
   "execution_count": 91,
   "metadata": {},
   "outputs": [
    {
     "data": {
      "text/plain": [
       "<AxesSubplot:title={'center':'Wind data'}>"
      ]
     },
     "execution_count": 91,
     "metadata": {},
     "output_type": "execute_result"
    },
    {
     "data": {
      "image/png": "[encoded data removed]",
      "text/plain": [
       "<Figure size 432x432 with 1 Axes>"
      ]
     },
     "metadata": {
      "needs_background": "light"
     },
     "output_type": "display_data"
    }
   ],
   "source": [
    "# Plot of the wind data\n",
    "\n",
    "plt.title(label='Wind data', \n",
    "          fontweight=10, \n",
    "          fontsize = 20,\n",
    "          pad='2.0')\n",
    "\n",
    "obs_freq.plot(kind='bar', label = \"Observed frequence\")"
   ]
  },
  {
   "cell_type": "code",
   "execution_count": 92,
   "metadata": {},
   "outputs": [
    {
     "data": {
      "image/png": "[encoded data removed]",
      "text/plain": [
       "<Figure size 432x432 with 1 Axes>"
      ]
     },
     "metadata": {
      "needs_background": "light"
     },
     "output_type": "display_data"
    }
   ],
   "source": [
    "from scipy.interpolate import make_interp_spline\n",
    "\n",
    "# plotting the data with the optimized pdf\n",
    "\n",
    "theta = 16.884 #the value of theta optimizied \n",
    "\n",
    "data = np.array(df) # convert a list into a np array\n",
    "# we plot the histogram\n",
    "bin_values, bin_edges, patches = plt.hist(data, density=1, facecolor='green', edgecolor = 'white', alpha=0.5)\n",
    "\n",
    "#the function f returns the values depending on the variable x, computed using theta optimal \n",
    "def f(x, t):\n",
    "    return t**2/(np.exp(t/x)*x**3) \n",
    "y = []\n",
    "s_xn = list(sorted(df))# we sort df because we want to pass it as input  to the function\n",
    "for el in s_xn:\n",
    "    y.append(f(el,theta) ) # we compute the y using the theta optimized using MLE\n",
    "plt.plot(s_xn, y, color=\"red\") \n",
    "plt.show()"
   ]
  },
  {
   "cell_type": "code",
   "execution_count": 93,
   "metadata": {},
   "outputs": [
    {
     "name": "stdout",
     "output_type": "stream",
     "text": [
      "Mean = 9.95751633986928\n",
      "Variance = 12.41153852769178\n"
     ]
    }
   ],
   "source": [
    "# let's look at the mean of the data \n",
    "print('Mean = '+ str(df.mean()))\n",
    "print('Variance = '+ str(df.var()))"
   ]
  },
  {
   "cell_type": "markdown",
   "metadata": {},
   "source": [
    "We evaluate the mean with the MLE through the given formula $ E(x) = \\frac{\\theta}{2}  = 8.44 $\n",
    "\n",
    "The value is quite different from the one we got from the data.\n",
    "Then the variance will be $ Var(X) = \\frac{x^2}{4} = 71.23 $\n",
    "\n",
    "This value denotes a clear lack of fit, observable also from the plot."
   ]
  },
  {
   "cell_type": "markdown",
   "metadata": {},
   "source": [
    "## 2)\n",
    "The important properties that we consider to solve this exercise are the following:\n",
    "1. Thanks to the equivariance of the MLE we know that is $\\hat{\\theta}_n$ denotes the MLE for $\\theta$ then $\\hat{\\tau}_n=h(\\hat{\\tau}_n$) is the MLE for $\\tau$.\n",
    "2. For large samples, the sampling distribution of $\\hat{\\theta}_n$ can be approximated by a Normal, because it is asymptotically Gaussian.\n",
    "\n",
    "To get the MLE for $\\tau$ we use the first property and our smooth function is $h(\\theta)$ (smooth because there exists its first derivative and it's different from zero in $ \\theta $), respresenting the average wind speed. Then we can easily get the MLE \n",
    "$$ \\hat{\\tau} = h(\\hat{\\theta})= \\frac{\\hat{\\theta}}{2}= 8.44$$\n",
    "\n",
    "The second aim is to obtain the standard error of this new estimator, computed in the following way \n",
    "\n",
    "$$\n",
    "\\hat{se}(\\hat{\\tau} _n)=|h'(\\hat{\\theta} _n)|\\hat{se}(\\hat{\\theta} _n)\n",
    "$$\n",
    "We decided to use the Fisher Information to compute $ \\hat{se}(\\hat{\\theta}) $, that is\n",
    "$$ \n",
    "\\mathcal{I}(\\theta)=- \\mathbb{E}\\left(\\frac{\\partial}{\\partial \\theta} s(X| \\theta)\\right)=- \\mathbb{E}\\left(\\frac{\\partial^2}{\\partial \\theta ^2} log f(X| \\theta)\\right)\n",
    "$$\n",
    "\n",
    "then the first order derivative is \n",
    "$$\n",
    "\\frac{\\partial }{\\partial \\theta} = \\frac{2}{\\theta}-\\frac{1}{x}\n",
    "$$ \n",
    "and the second order one \n",
    "$$ \n",
    "\\frac{\\partial ^2}{\\partial \\theta ^2} = - \\frac{2}{\\theta ^ 2}\n",
    "$$\n",
    "$$\n",
    "\\mathcal{I}(\\theta) = - \\mathbb{E}\\left(- \\frac{2}{\\theta ^ 2}\\right)= \\frac{2}{\\theta ^2}\n",
    "$$\n",
    "The asymptotic se can be approximated by $ \\hat{se} \\approx [\\mathcal{I}_n(\\hat{\\theta})]^{-\\frac{1}{2}} $ but since we have IID samples $ \\mathcal{I}_n(\\hat{\\theta})=n\\mathcal{I}(\\hat{\\theta})$  and  \n",
    "$$ \n",
    "\\hat{se} \\approx [n\\mathcal{I}(\\hat{\\theta})]^{ - \\frac{1}{2}} = [n(\\frac{2}{\\hat{\\theta} ^2})]^{-\\frac{1}{2}}\n",
    "$$\n",
    "We can finally compute \n",
    "$$ \n",
    "\\hat{se}(\\hat{\\tau} _n)=|h'(\\hat{\\theta} _n)|\\hat{se} \\left( \\hat{\\theta} _n \\right) = \\frac{1}{2} \\left(\\frac{2n}{\\hat{\\theta}^2} \\right)^{-\\frac{1}{2}}\n",
    "$$"
   ]
  },
  {
   "cell_type": "code",
   "execution_count": 94,
   "metadata": {},
   "outputs": [
    {
     "name": "stdout",
     "output_type": "stream",
     "text": [
      "the new estimator standard error is  0.48\n"
     ]
    }
   ],
   "source": [
    "#Use the properties and asymptotics of MLE to get an estimate of the average wind speed together \n",
    "#with a quatification of the estimator standard error.\n",
    "import pandas as pd\n",
    "from scipy import stats\n",
    "\n",
    "df_2 = pd.read_csv(\"airquality.csv\", header = 0)\n",
    "df_2 = df_2[\"Wind\"]\n",
    "theta = 16.88 #this is the MLE for theta, computed in the previous exercise\n",
    "n=153 \n",
    "#prima cosa facciamo il se di theta cappelletto\n",
    "#Inf computes Fisher Information given an estimator theta\n",
    "def Inf(theta):\n",
    "    # the second order derivative is -2/(theta)**2\n",
    "    #the expectation of a constant is the constant itself \n",
    "    return (2/((theta)**2))*n\n",
    "#multiplied by n since it is the Fisher information of n IID random variables\n",
    "\n",
    "def se_theta(theta): #computes the standard error with respect to the estimator theta\n",
    "    return (Inf(theta))**(-1/2)\n",
    "\n",
    "def se_tau(theta): #returns the standard error with the new parameter tau\n",
    "    return (1/2)*(se_theta(theta))\n",
    "print(\"the new estimator standard error is \", round(se_tau(theta),2))"
   ]
  },
  {
   "cell_type": "markdown",
   "metadata": {},
   "source": [
    "## 3)\n",
    "Now we proceed comparing the Nonparametric Bootstrap solution for the standard error with the previous one.\n",
    "In the nonparametric bootstrap, the random data is created by resampling with replacement from the original data, that's why we used the method called sample with the parameter \"replace\" set to True.\n",
    "The procedure is as follows:\n",
    "- Resample, create n bootstrap samples by sampling with replacement form the original data\n",
    "- estimate $\\theta$. From each bootstrap sample denote the resulting estimate $ \\hat{\\theta}^*$\n",
    "- compute statistics, in our case the standard error, but we will also include bias and variance.\n",
    "The bootstrap samples inherit the same distribution as the original data.\n",
    "\n",
    "The standard error in Nonparametric bootstrap is the following \n",
    "$$\n",
    "\\widehat{se}_{boot}(\\widehat{\\theta})= \\sqrt{\\frac{1}{n-1}\\sum_{j=1}^{n}(\\hat{\\theta}^*_j-\\bar{\\theta}^*)^2}\n",
    "$$\n",
    "\n",
    "In the following cells we used the numpy.std() method as we did in class"
   ]
  },
  {
   "cell_type": "code",
   "execution_count": 95,
   "metadata": {},
   "outputs": [
    {
     "name": "stdout",
     "output_type": "stream",
     "text": [
      "Nonparametric bootstrap standard error: 0.29\n",
      "Nonparametric bootstrap bias: -0.0\n"
     ]
    }
   ],
   "source": [
    "import numpy as np\n",
    "import matplotlib.pyplot as plt\n",
    "\n",
    "df_3 = pd.read_csv(\"airquality.csv\", header = 0)\n",
    "df_3 = df_3[\"Wind\"]\n",
    "\n",
    "B = 1000\n",
    "boot = np.zeros(B)\n",
    "for b in range(B):\n",
    "    x_boot   = df_3.sample(n = 153, replace = True)\n",
    "    #Pandas sample() is used to generate a sample random row from the function caller data frame.\n",
    "    boot[b] = x_boot.mean()\n",
    "# Nonparametric Bootstrap Estimate of the Standard Error for the plug-in estimator of the sample mean\n",
    "print(\"Nonparametric bootstrap standard error:\",round(boot.std(),2))\n",
    "# Nonparametric Bootstrap Estimate of the Bias for the plug-in estimator of the sample mean\n",
    "boot_bias = boot.mean() - df_3.mean() \n",
    "print(\"Nonparametric bootstrap bias:\",round(boot_bias,2))\n",
    "#plt.hist(boot, density = 1, facecolor='green', edgecolor = 'white', alpha=0.5)"
   ]
  },
  {
   "cell_type": "markdown",
   "metadata": {},
   "source": [
    "The standard error is an important indicator of how precise an estimate of the population parameter the sample statistic is, is the measure of the accuracy of a mean and an estimate. A smaller standard error indicates an higher precision, that's the reason why we are more satisfied with the result obtained in the Nonparametric bootstrap, rather than the one that referred to $ \\hat{\\theta}$"
   ]
  },
  {
   "cell_type": "markdown",
   "metadata": {},
   "source": [
    "## 4)\n",
    "\n",
    "Now we have to find the estimator standard error using parametric bootstrap. We tried three different models: Rayleigh, Normal and Gamma distributions. We'll analyze later which one is the best."
   ]
  },
  {
   "cell_type": "code",
   "execution_count": 96,
   "metadata": {},
   "outputs": [
    {
     "data": {
      "text/plain": [
       "9.95751633986928"
      ]
     },
     "execution_count": 96,
     "metadata": {},
     "output_type": "execute_result"
    }
   ],
   "source": [
    "# This is the mean taken from the dataset, we'll use it for a comparison with the parametric bootstrap results.\n",
    "df.mean()"
   ]
  },
  {
   "cell_type": "code",
   "execution_count": 97,
   "metadata": {},
   "outputs": [
    {
     "data": {
      "text/plain": [
       "9.95751633986928"
      ]
     },
     "execution_count": 97,
     "metadata": {},
     "output_type": "execute_result"
    }
   ],
   "source": [
    "# This is the mean taken from the dataset, we'll use it for a comparison with the parametric bootstrap results.\n",
    "df.mean()"
   ]
  },
  {
   "cell_type": "code",
   "execution_count": 98,
   "metadata": {},
   "outputs": [
    {
     "data": {
      "image/png": "[encoded data removed]",
      "text/plain": [
       "<Figure size 432x432 with 1 Axes>"
      ]
     },
     "metadata": {
      "needs_background": "light"
     },
     "output_type": "display_data"
    },
    {
     "data": {
      "image/png": "[encoded data removed]",
      "text/plain": [
       "<Figure size 432x432 with 1 Axes>"
      ]
     },
     "metadata": {
      "needs_background": "light"
     },
     "output_type": "display_data"
    }
   ],
   "source": [
    "# Finding the location and the scale for the Rayleigh model\n",
    "loc_r, scale_r = st.rayleigh.fit(df)\n",
    "\n",
    "# Evaluate fitted PDF \n",
    "rv_fit_r  = st.rayleigh(loc = loc_r, scale =scale_r)\n",
    "grid  = np.linspace(0, df.max(), num = 501)\n",
    "pdf_r = rv_fit_r.pdf(grid)\n",
    "\n",
    "# Plot with histogram\n",
    "plt.hist(df, density = 1, facecolor='blue', edgecolor = 'white', alpha=0.5, label = \"Data\");\n",
    "plt.plot(grid, pdf_r, '#fec0ab', linewidth = 5, label = \"Rayleigh PDF\");\n",
    "plt.xlabel('x')\n",
    "plt.ylabel('PDF')\n",
    "plt.legend(loc='upper right');\n",
    "plt.show()\n",
    "\n",
    "# Quantile-quantile plot\n",
    "stmod.qqplot(data = df, dist = st.rayleigh(loc_r, scale_r), line='45', fmt='b')\n",
    "plt.show()\n",
    "\n",
    "# The approximation is not excellent but it works okay"
   ]
  },
  {
   "cell_type": "code",
   "execution_count": 99,
   "metadata": {},
   "outputs": [
    {
     "name": "stdout",
     "output_type": "stream",
     "text": [
      "9.628281420838528\n"
     ]
    }
   ],
   "source": [
    "# Comuputing the mean using equivariance\n",
    "mean_r = loc_r + scale_r*np.sqrt(np.pi/2) \n",
    "print(mean_r)\n",
    "\n",
    "# As we can see, the mean is quite similar to the original one"
   ]
  },
  {
   "cell_type": "code",
   "execution_count": 100,
   "metadata": {},
   "outputs": [
    {
     "name": "stdout",
     "output_type": "stream",
     "text": [
      "0.3105528790822953\n"
     ]
    }
   ],
   "source": [
    "# Evaluating the Standard Error of the Mean Estimator\n",
    "B = 500\n",
    "boot_stat_r = np.zeros(B)\n",
    "for b in range(B):\n",
    "    # finding the sample for the fitted population\n",
    "    x_bt_r = rv_fit_r.rvs(len(df)) \n",
    "    # bootstrapped location and scale\n",
    "    loc_br, scale_br = st.rayleigh.fit(x_bt_r)  \n",
    "    # Computing the bootstrap version of MLEs using equivariance\n",
    "    boot_stat_r[b] = scale_br*np.sqrt(np.pi/2) + loc_br  \n",
    "    \n",
    "# Here we print the estimator standard error\n",
    "print(boot_stat_r.std()) "
   ]
  },
  {
   "cell_type": "markdown",
   "metadata": {},
   "source": [
    "Let's try with the normal distribution, it's pdf is\n",
    "$ f(x) = \\frac{e^{- \\frac{x^2}{2}}}{\\sqrt{2 \\pi}} $"
   ]
  },
  {
   "cell_type": "code",
   "execution_count": 101,
   "metadata": {},
   "outputs": [
    {
     "data": {
      "image/png": "[encoded data removed]",
      "text/plain": [
       "<Figure size 432x432 with 1 Axes>"
      ]
     },
     "metadata": {
      "needs_background": "light"
     },
     "output_type": "display_data"
    },
    {
     "data": {
      "image/png": "[encoded data removed]",
      "text/plain": [
       "<Figure size 432x432 with 1 Axes>"
      ]
     },
     "metadata": {
      "needs_background": "light"
     },
     "output_type": "display_data"
    }
   ],
   "source": [
    "# let's try with the Normal distribution\n",
    "loc_n, scale_n = st.norm.fit(df)\n",
    "\n",
    "# Evaluate fitted PDF \n",
    "rv_fit_n  = st.norm(loc = loc_n, scale =scale_n)\n",
    "grid  = np.linspace(0, df.max(), num = 501)\n",
    "pdf_n = rv_fit_n.pdf(grid)\n",
    "\n",
    "# Plot with histogram\n",
    "plt.hist(df,  density = 1, facecolor='yellow', edgecolor = 'white', alpha=0.5,label = \"Data\");\n",
    "plt.plot(grid, pdf_n, '#aec0ab', linewidth = 5, label = \"Normal PDF\");\n",
    "plt.xlabel('x')\n",
    "plt.ylabel('PDF')\n",
    "plt.legend(loc='upper right');\n",
    "plt.show()\n",
    "\n",
    "# Quantile-quantile plot\n",
    "stmod.qqplot(data = df,  dist = st.norm(loc_n, scale_n), line='45', fmt='b')\n",
    "plt.show()"
   ]
  },
  {
   "cell_type": "code",
   "execution_count": 102,
   "metadata": {},
   "outputs": [
    {
     "name": "stdout",
     "output_type": "stream",
     "text": [
      "0.3496123336633952\n"
     ]
    }
   ],
   "source": [
    "mean_n = rv_fit_n.stats()[0]\n",
    "B = 500\n",
    "boot_stat_n = np.zeros(B)\n",
    "\n",
    "for b in range(B):\n",
    "    # finding the sample for the fitted population\n",
    "    x_bt_n = rv_fit_n.rvs(len(df)) \n",
    "    # bootstrapped location and scale\n",
    "    loc_bn, scale_bn = st.norm.fit(x_bt_n)  \n",
    "    # Computing the bootstrap version of MLEs using equivariance\n",
    "    boot_stat_n[b] = scale_bn*np.sqrt(np.pi/2) + loc_bn\n",
    "    \n",
    "print(boot_stat_n.std()) \n",
    "\n",
    "# This is tworst than the previous result, the estimate standard error is greater"
   ]
  },
  {
   "cell_type": "markdown",
   "metadata": {},
   "source": [
    "The last try will be the Gamma distribution, its pdf is $$ f(x, \\alpha) = \\frac{x^{\\alpha - 1} \\ e^{-x}}{\\Gamma (\\alpha)} $$"
   ]
  },
  {
   "cell_type": "code",
   "execution_count": 103,
   "metadata": {},
   "outputs": [
    {
     "data": {
      "image/png": "[encoded data removed]",
      "text/plain": [
       "<Figure size 432x432 with 1 Axes>"
      ]
     },
     "metadata": {
      "needs_background": "light"
     },
     "output_type": "display_data"
    },
    {
     "data": {
      "image/png": "[encoded data removed]",
      "text/plain": [
       "<Figure size 432x432 with 1 Axes>"
      ]
     },
     "metadata": {
      "needs_background": "light"
     },
     "output_type": "display_data"
    }
   ],
   "source": [
    "alpha, loc_g, beta = st.gamma.fit(df, floc = 0)  \n",
    "rv_fit_g  = st.gamma(a = alpha, loc = loc_g, scale = beta)\n",
    "\n",
    "# Evaluate the estimated PDF \n",
    "grid  = np.linspace(0, df.max(), num = 501)\n",
    "pdf_g = rv_fit_g.pdf(grid)\n",
    "\n",
    "# Plotting pdf and histogram\n",
    "plt.hist(df, density = 1, facecolor='purple', edgecolor = 'white', alpha=0.5, label = \"Data\");\n",
    "plt.plot(grid, pdf_g, '#fdc0cc', linewidth = 5, label = \"Gamma PDF\");\n",
    "plt.xlabel('x')\n",
    "plt.ylabel('PDF')\n",
    "plt.legend(loc='upper right');\n",
    "plt.show()\n",
    "\n",
    "# Quantile-quantile plot\n",
    "stmod.qqplot(data = df, dist = st.gamma(alpha, loc_g, beta),  line='45', fmt='b')\n",
    "plt.show()"
   ]
  },
  {
   "cell_type": "code",
   "execution_count": 104,
   "metadata": {},
   "outputs": [
    {
     "name": "stdout",
     "output_type": "stream",
     "text": [
      "0.3052443340385554\n"
     ]
    }
   ],
   "source": [
    "# Gamma mean\n",
    "mean_g = alpha*beta + loc_g\n",
    "B = 500\n",
    "boot_stat_g = np.zeros(B)\n",
    "# bootstrapping\n",
    "for b in range(B):\n",
    "    x_bt_g = rv_fit_g.rvs( len(df) )     \n",
    "    a_bg, loc_bg, b_bg = st.gamma.fit(x_bt_g, floc = 0) #forcing location to zero\n",
    "    boot_stat_g[b]     = a_bg*b_bg + loc_bg    \n",
    "\n",
    "# Bootstrapped estimate standard error\n",
    "print( boot_stat_g.std() ) "
   ]
  },
  {
   "cell_type": "markdown",
   "metadata": {},
   "source": [
    "The Gamma model has the best fit, we cannot say the same for the other models.\n",
    "\n",
    "Comparing the normal model estimate standard error with the non parametric solution, we can say that when we use an accurate model the results are very similar and also very good, while when we use a model that is not appropriate, the estimate standard error of the parametric solution is much greater."
   ]
  },
  {
   "cell_type": "markdown",
   "id": "de9442ca-3581-4baa-b96e-f68302f94231",
   "metadata": {},
   "source": [
    "### Exercise 02 | Toy portfolio"
   ]
  },
  {
   "cell_type": "markdown",
   "id": "c4a41253-5fa1-46a6-8483-1da8d6b1525e",
   "metadata": {},
   "source": [
    "Suppose that we have two random variables $X$ and $Y$ which represent the yields of two financial assets. \n",
    "\n",
    "We will invest a fraction of our money, say $\\omega$, in $X$ and the remaining fraction $(1 - \\omega)$ in $Y$.\n",
    "\n",
    "Our yield will hence be\n",
    "$$\n",
    "\\omega \\cdot X + (1 - \\omega) \\cdot Y.\n",
    "$$\n",
    "Because this is a random quantity, we may want to choose $\\omega$ to minimize the variance of our investment. <br>\n",
    "One can show that the value of $\\omega$ minimizing\n",
    "$$\n",
    "\\mathbb{V}\\text{ar}\\big( \\omega \\cdot X + (1 - \\omega) \\cdot Y \\big),\n",
    "$$\n",
    "is indeed\n",
    "$$\n",
    "%\\begin{equation}\\label{eq:opt}\n",
    "\\omega^\\star = \\frac{\\sigma^2_Y - \\sigma_{X,Y}}{\\sigma^2_X + \\sigma^2_Y - 2\\cdot \\sigma_{X,Y}},\n",
    "%\\end{equation}\n",
    "$$\n",
    "\n",
    "where $\\sigma^2_X = \\mathbb{V}\\text{ar}(X)$, $\\sigma^2_Y = \\mathbb{V}\\text{ar}(Y)$, $\\sigma_{X,Y} = \\mathbb{C}\\text{ov}(X,Y)$.\n",
    "\n",
    "\n",
    "Given a random sample $\\big\\{ (X_1,Y_1), \\ldots, (X_n,Y_n)\\big\\}$ for the returns, we can compute the following plug-in estimator for $\\omega^\\star$\n",
    "$$\n",
    "\\widehat{\\omega} = \\frac{ \\widehat{\\sigma}^2_Y - \\widehat{\\sigma}_{X,Y}}{\\widehat{\\sigma}^2_X + \\widehat{\\sigma}^2_Y - 2\\cdot \\widehat{\\sigma}_{X,Y}},\n",
    "$$\n",
    "Note that even if we knew a parametric form (say bivariate normal) for the joint distribution of $X$ and $Y$, performing formal calculations involving $\\widehat{\\omega}$ would be difficult, because of the presence of sample estimates (sample variances and covariance) in its numerator and denominator.\n",
    "\n",
    "As you can imagine, we can pull financial data into `Python` in many different ways\n",
    "To get the stocks info you have to know (in advance) the symbol associated to that stock (e.g. `Apple Inc.`, `IBM`, etc.) in a particular market (e.g. `NYSE`, `NASDAQ`). You can easily obtain this from portals like [Yahoo! Finance](https://it.finance.yahoo.com/). For example try something like:"
   ]
  },
  {
   "cell_type": "code",
   "execution_count": 105,
   "id": "d8bdcdb9-1b55-4b9e-a6c1-6a4f44c8c074",
   "metadata": {},
   "outputs": [],
   "source": [
    "# url: https://pypi.org/project/fix-yahoo-finance/\n",
    "\n",
    "# Install\n",
    "# pip install yfinance --upgrade --no-cache-dir\n",
    "import yfinance as yf"
   ]
  },
  {
   "cell_type": "code",
   "execution_count": 106,
   "id": "b5cec1dd-db63-4870-bd3a-936109d0e085",
   "metadata": {},
   "outputs": [
    {
     "name": "stdout",
     "output_type": "stream",
     "text": [
      "[*********************100%***********************]  3 of 3 completed\n"
     ]
    },
    {
     "data": {
      "text/html": [
       "<div>\n",
       "<style scoped>\n",
       "    .dataframe tbody tr th:only-of-type {\n",
       "        vertical-align: middle;\n",
       "    }\n",
       "\n",
       "    .dataframe tbody tr th {\n",
       "        vertical-align: top;\n",
       "    }\n",
       "\n",
       "    .dataframe thead tr th {\n",
       "        text-align: left;\n",
       "    }\n",
       "\n",
       "    .dataframe thead tr:last-of-type th {\n",
       "        text-align: right;\n",
       "    }\n",
       "</style>\n",
       "<table border=\"1\" class=\"dataframe\">\n",
       "  <thead>\n",
       "    <tr>\n",
       "      <th></th>\n",
       "      <th colspan=\"6\" halign=\"left\">AAPL</th>\n",
       "      <th colspan=\"6\" halign=\"left\">GOOG</th>\n",
       "      <th colspan=\"6\" halign=\"left\">IBM</th>\n",
       "    </tr>\n",
       "    <tr>\n",
       "      <th></th>\n",
       "      <th>Open</th>\n",
       "      <th>High</th>\n",
       "      <th>Low</th>\n",
       "      <th>Close</th>\n",
       "      <th>Adj Close</th>\n",
       "      <th>Volume</th>\n",
       "      <th>Open</th>\n",
       "      <th>High</th>\n",
       "      <th>Low</th>\n",
       "      <th>Close</th>\n",
       "      <th>Adj Close</th>\n",
       "      <th>Volume</th>\n",
       "      <th>Open</th>\n",
       "      <th>High</th>\n",
       "      <th>Low</th>\n",
       "      <th>Close</th>\n",
       "      <th>Adj Close</th>\n",
       "      <th>Volume</th>\n",
       "    </tr>\n",
       "    <tr>\n",
       "      <th>Date</th>\n",
       "      <th></th>\n",
       "      <th></th>\n",
       "      <th></th>\n",
       "      <th></th>\n",
       "      <th></th>\n",
       "      <th></th>\n",
       "      <th></th>\n",
       "      <th></th>\n",
       "      <th></th>\n",
       "      <th></th>\n",
       "      <th></th>\n",
       "      <th></th>\n",
       "      <th></th>\n",
       "      <th></th>\n",
       "      <th></th>\n",
       "      <th></th>\n",
       "      <th></th>\n",
       "      <th></th>\n",
       "    </tr>\n",
       "  </thead>\n",
       "  <tbody>\n",
       "    <tr>\n",
       "      <th>2018-12-31</th>\n",
       "      <td>39.632500</td>\n",
       "      <td>39.840000</td>\n",
       "      <td>39.119999</td>\n",
       "      <td>39.435001</td>\n",
       "      <td>38.233894</td>\n",
       "      <td>140014000</td>\n",
       "      <td>1050.959961</td>\n",
       "      <td>1052.699951</td>\n",
       "      <td>1023.590027</td>\n",
       "      <td>1035.609985</td>\n",
       "      <td>1035.609985</td>\n",
       "      <td>1493300</td>\n",
       "      <td>108.346077</td>\n",
       "      <td>109.321220</td>\n",
       "      <td>107.476097</td>\n",
       "      <td>108.671127</td>\n",
       "      <td>92.693733</td>\n",
       "      <td>5212009</td>\n",
       "    </tr>\n",
       "    <tr>\n",
       "      <th>2019-01-02</th>\n",
       "      <td>38.722500</td>\n",
       "      <td>39.712502</td>\n",
       "      <td>38.557499</td>\n",
       "      <td>39.480000</td>\n",
       "      <td>38.277523</td>\n",
       "      <td>148158800</td>\n",
       "      <td>1016.570007</td>\n",
       "      <td>1052.319946</td>\n",
       "      <td>1015.710022</td>\n",
       "      <td>1045.849976</td>\n",
       "      <td>1045.849976</td>\n",
       "      <td>1532600</td>\n",
       "      <td>107.084129</td>\n",
       "      <td>110.879539</td>\n",
       "      <td>106.778206</td>\n",
       "      <td>110.143402</td>\n",
       "      <td>93.949547</td>\n",
       "      <td>4434935</td>\n",
       "    </tr>\n",
       "    <tr>\n",
       "      <th>2019-01-03</th>\n",
       "      <td>35.994999</td>\n",
       "      <td>36.430000</td>\n",
       "      <td>35.500000</td>\n",
       "      <td>35.547501</td>\n",
       "      <td>34.464806</td>\n",
       "      <td>365248800</td>\n",
       "      <td>1041.000000</td>\n",
       "      <td>1056.979980</td>\n",
       "      <td>1014.070007</td>\n",
       "      <td>1016.059998</td>\n",
       "      <td>1016.059998</td>\n",
       "      <td>1841100</td>\n",
       "      <td>109.493309</td>\n",
       "      <td>109.827919</td>\n",
       "      <td>107.734222</td>\n",
       "      <td>107.944550</td>\n",
       "      <td>92.073990</td>\n",
       "      <td>4546648</td>\n",
       "    </tr>\n",
       "    <tr>\n",
       "      <th>2019-01-04</th>\n",
       "      <td>36.132500</td>\n",
       "      <td>37.137501</td>\n",
       "      <td>35.950001</td>\n",
       "      <td>37.064999</td>\n",
       "      <td>35.936081</td>\n",
       "      <td>234428400</td>\n",
       "      <td>1032.589966</td>\n",
       "      <td>1070.839966</td>\n",
       "      <td>1027.417969</td>\n",
       "      <td>1070.709961</td>\n",
       "      <td>1070.709961</td>\n",
       "      <td>2093900</td>\n",
       "      <td>109.856598</td>\n",
       "      <td>112.323135</td>\n",
       "      <td>109.407265</td>\n",
       "      <td>112.160614</td>\n",
       "      <td>95.670189</td>\n",
       "      <td>4683779</td>\n",
       "    </tr>\n",
       "    <tr>\n",
       "      <th>2019-01-07</th>\n",
       "      <td>37.174999</td>\n",
       "      <td>37.207500</td>\n",
       "      <td>36.474998</td>\n",
       "      <td>36.982498</td>\n",
       "      <td>35.856087</td>\n",
       "      <td>219111200</td>\n",
       "      <td>1071.500000</td>\n",
       "      <td>1074.000000</td>\n",
       "      <td>1054.760010</td>\n",
       "      <td>1068.390015</td>\n",
       "      <td>1068.390015</td>\n",
       "      <td>1981900</td>\n",
       "      <td>112.332695</td>\n",
       "      <td>113.604210</td>\n",
       "      <td>111.539200</td>\n",
       "      <td>112.954109</td>\n",
       "      <td>96.347031</td>\n",
       "      <td>3923755</td>\n",
       "    </tr>\n",
       "  </tbody>\n",
       "</table>\n",
       "</div>"
      ],
      "text/plain": [
       "                 AAPL                                                         \\\n",
       "                 Open       High        Low      Close  Adj Close     Volume   \n",
       "Date                                                                           \n",
       "2018-12-31  39.632500  39.840000  39.119999  39.435001  38.233894  140014000   \n",
       "2019-01-02  38.722500  39.712502  38.557499  39.480000  38.277523  148158800   \n",
       "2019-01-03  35.994999  36.430000  35.500000  35.547501  34.464806  365248800   \n",
       "2019-01-04  36.132500  37.137501  35.950001  37.064999  35.936081  234428400   \n",
       "2019-01-07  37.174999  37.207500  36.474998  36.982498  35.856087  219111200   \n",
       "\n",
       "                   GOOG                                                      \\\n",
       "                   Open         High          Low        Close    Adj Close   \n",
       "Date                                                                          \n",
       "2018-12-31  1050.959961  1052.699951  1023.590027  1035.609985  1035.609985   \n",
       "2019-01-02  1016.570007  1052.319946  1015.710022  1045.849976  1045.849976   \n",
       "2019-01-03  1041.000000  1056.979980  1014.070007  1016.059998  1016.059998   \n",
       "2019-01-04  1032.589966  1070.839966  1027.417969  1070.709961  1070.709961   \n",
       "2019-01-07  1071.500000  1074.000000  1054.760010  1068.390015  1068.390015   \n",
       "\n",
       "                            IBM                                      \\\n",
       "             Volume        Open        High         Low       Close   \n",
       "Date                                                                  \n",
       "2018-12-31  1493300  108.346077  109.321220  107.476097  108.671127   \n",
       "2019-01-02  1532600  107.084129  110.879539  106.778206  110.143402   \n",
       "2019-01-03  1841100  109.493309  109.827919  107.734222  107.944550   \n",
       "2019-01-04  2093900  109.856598  112.323135  109.407265  112.160614   \n",
       "2019-01-07  1981900  112.332695  113.604210  111.539200  112.954109   \n",
       "\n",
       "                                \n",
       "            Adj Close   Volume  \n",
       "Date                            \n",
       "2018-12-31  92.693733  5212009  \n",
       "2019-01-02  93.949547  4434935  \n",
       "2019-01-03  92.073990  4546648  \n",
       "2019-01-04  95.670189  4683779  \n",
       "2019-01-07  96.347031  3923755  "
      ]
     },
     "execution_count": 106,
     "metadata": {},
     "output_type": "execute_result"
    }
   ],
   "source": [
    "df = yf.download(\"IBM GOOG AAPL\", start=\"2019-01-01\", end=\"2020-01-01\", group_by=\"ticker\") \n",
    "df.head() "
   ]
  },
  {
   "cell_type": "code",
   "execution_count": 107,
   "id": "8dbc98f0-7d86-421c-bc97-da85ac0b658b",
   "metadata": {},
   "outputs": [
    {
     "data": {
      "text/plain": [
       "count    253.000000\n",
       "mean       1.001843\n",
       "std        0.010322\n",
       "min        0.967579\n",
       "25%        0.995693\n",
       "50%        1.001823\n",
       "75%        1.007957\n",
       "max        1.039548\n",
       "dtype: float64"
      ]
     },
     "execution_count": 107,
     "metadata": {},
     "output_type": "execute_result"
    }
   ],
   "source": [
    "# Build some relative performance measure like the ratio Close/Open\n",
    "AP_ret = df.AAPL.Close/df.AAPL.Open\n",
    "\n",
    "# Take a look\n",
    "#AP_ret.plot();\n",
    "\n",
    "AP_ret.describe()"
   ]
  },
  {
   "cell_type": "code",
   "execution_count": 108,
   "id": "4e73d38c",
   "metadata": {},
   "outputs": [
    {
     "data": {
      "image/png": "[encoded data removed]",
      "text/plain": [
       "<Figure size 432x432 with 1 Axes>"
      ]
     },
     "metadata": {
      "needs_background": "light"
     },
     "output_type": "display_data"
    }
   ],
   "source": [
    "# Build some relative performance measure like the ratio Close/Open\n",
    "IBM_ret = df.IBM.Close/df.IBM.Open\n",
    "\n",
    "# Take a look\n",
    "IBM_ret.plot();\n",
    "\n"
   ]
  },
  {
   "cell_type": "markdown",
   "id": "323f8911-44fa-4fc8-a443-df8a8334048b",
   "metadata": {},
   "source": [
    "### To Do\n",
    "\n",
    "1. Prove (analytically) that $\\omega^\\star$ in fact minimizes the volatility of your investment.\n",
    "\n",
    "2. Pick two stocks, gather their returns/performance measure in `Python` over a 1 year long period of your choosing, and implement a **nonparametric bootstrap** scheme to get (approximate) estimates for the **standard error** and **MSE** of the plug-in estimator $\\widehat{\\omega}$."
   ]
  },
  {
   "cell_type": "markdown",
   "id": "701bd5c3",
   "metadata": {},
   "source": [
    "# Soooo point 1\n",
    "\n",
    "We start from our variance and we apply the following property:\n",
    "$$\n",
    "Var(aX + bY) = a^2 \\; \\sigma^2_X +  b^2 \\; \\sigma^2_Y + 2ab \\; \\sigma_{X,Y}\n",
    "$$\n",
    "\n",
    "So we have the following:\n",
    "$$\n",
    "Var (\\omega \\cdot X + (1 - \\omega) \\cdot Y) =  \\omega^2 \\; \\sigma^2_X + (1-\\omega) ^ 2 \\; \\sigma^2_Y + 2\\omega (1- \\omega)  \\sigma_{X,Y}\n",
    "$$\n",
    "Expanding the paretheses we get:\n",
    "$$\n",
    "\\omega^2 \\; \\sigma^2_X + \\sigma^2_Y + \\omega^2 \\; \\sigma^2_Y -2\\omega \\sigma^2_Y + 2 \\omega \\sigma_{X,Y} - 2 \\omega^2 \\sigma_{X,Y}\n",
    "$$\n",
    "\n",
    "Now in order to minimize $\\omega$ we have to derivate with respect to $\\omega$ and solve the equation $\\frac{ d Var(\\omega \\cdot X + (1 - \\omega) \\cdot Y)}{d \\omega} = 0$\n",
    "\n",
    "So our taking the derivative wrt to $\\omega$ we have:\n",
    "$$\n",
    "\\frac{ d \\; Var(\\omega \\cdot X + (1 - \\omega) \\cdot Y)}{d \\; \\omega} = 2\\omega \\; \\sigma^2_X  +  2\\omega \\; \\sigma^2_Y - 2 \\sigma^2_Y + 2 \\sigma_{X,Y} - 4 \\omega \\sigma_{X,Y}\n",
    "$$\n",
    "\n",
    "Equating this to 0 and factoring out $\\omega$ we have:\n",
    "$$\n",
    "\\omega (2\\sigma^2_X + 2\\sigma^2_Y - 4 \\sigma_{X,Y}) = 2\\sigma^2_X - 2 \\sigma_{X,Y}\n",
    "$$\n",
    "Finally, solving for $\\omega$ we get:\n",
    "$$\n",
    "\\omega^\\star = \\frac{2\\sigma^2_Y -  2 \\sigma_{X,Y}}{2\\sigma^2_X + 2\\sigma^2_Y - 4 \\sigma_{X,Y}}\n",
    "$$\n",
    "Simplifying the coefficients:\n",
    "$$\n",
    "\\omega^\\star = \\frac{\\sigma^2_Y -  \\sigma_{X,Y}}{\\sigma^2_X + \\sigma^2_Y - 2 \\sigma_{X,Y}}\n",
    "$$"
   ]
  },
  {
   "cell_type": "markdown",
   "id": "72545fc6",
   "metadata": {},
   "source": [
    "# Point 2\n",
    "2. Pick two stocks, gather their returns/performance measure in `Python` over a 1 year long period of your choosing, and implement a **nonparametric bootstrap** scheme to get (approximate) estimates for the **standard error** and **MSE** of the plug-in estimator $\\widehat{\\omega}$."
   ]
  },
  {
   "cell_type": "code",
   "execution_count": 109,
   "id": "2fc0e659",
   "metadata": {},
   "outputs": [
    {
     "name": "stdout",
     "output_type": "stream",
     "text": [
      "[*********************100%***********************]  2 of 2 completed\n",
      "253\n",
      "253\n"
     ]
    },
    {
     "data": {
      "text/plain": [
       "0.8515838537570619"
      ]
     },
     "execution_count": 109,
     "metadata": {},
     "output_type": "execute_result"
    },
    {
     "data": {
      "image/png": "[encoded data removed]",
      "text/plain": [
       "<Figure size 432x432 with 1 Axes>"
      ]
     },
     "metadata": {
      "needs_background": "light"
     },
     "output_type": "display_data"
    }
   ],
   "source": [
    "#first things first we clean our data and create our data frame\n",
    "import numpy as np\n",
    "\n",
    "df = yf.download(\"FB, GOOG\", start=\"2019-01-01\", end=\"2020-01-01\", group_by=\"ticker\") \n",
    "\n",
    "GOOG_ret = df.GOOG.Close/df.GOOG.Open\n",
    "\n",
    "FB_ret = df[\"FB\"].Close/df[\"FB\"].Open\n",
    "\n",
    "print(len(GOOG_ret))  \n",
    "print(len(FB_ret)) # little sanity check to check that they have the same length\n",
    "FB_ret.plot()\n",
    "GOOG_ret.plot()\n",
    "\n",
    "varx, cov  = np.cov(GOOG_ret,FB_ret)[0] # here we unpack the covariance matrix to get both variances and cov\n",
    "_ , vary = np.cov(GOOG_ret,FB_ret)[1]\n",
    "\n",
    "w = (vary - cov)/ (varx + vary - 2 *cov)\n",
    "w #here we calculated omega on our initial data set to compare it with the bootstrapped one\n"
   ]
  },
  {
   "cell_type": "markdown",
   "id": "b527d933",
   "metadata": {},
   "source": [
    "Above we have the graphs of the daily close/open ratio: google in orange and facebook in blue."
   ]
  },
  {
   "cell_type": "code",
   "execution_count": 110,
   "id": "70a1568c",
   "metadata": {},
   "outputs": [
    {
     "data": {
      "text/plain": [
       "0.6444014879116874"
      ]
     },
     "execution_count": 110,
     "metadata": {},
     "output_type": "execute_result"
    },
    {
     "data": {
      "image/png": "[encoded data removed]",
      "text/plain": [
       "<Figure size 432x432 with 1 Axes>"
      ]
     },
     "metadata": {
      "needs_background": "light"
     },
     "output_type": "display_data"
    }
   ],
   "source": [
    "import pandas as pd\n",
    "# Pre-allocate and initilize\n",
    "B = 1000\n",
    "boot_stat = np.zeros(B)\n",
    "\n",
    "for b in range(B):\n",
    "    # so here we have to sample from our dataframe\n",
    "    x_boot = GOOG_ret.sample(n = len(GOOG_ret), replace = True)\n",
    "    y_boot = FB_ret.sample(n = len(FB_ret), replace = True)\n",
    "\n",
    "    # Now that we have resampled from our initial dataset we proceed by estimating covariance and the variances.\n",
    "    \n",
    "    cov_hat = np.cov(x_boot,y_boot)[0,1]\n",
    "    \n",
    "    varx_hat = np.var(x_boot)\n",
    "    \n",
    "    vary_hat = np.var(y_boot)\n",
    "    \n",
    "    # The last stap is to fill the boot_stat array \n",
    "    boot_stat[b] = (vary_hat - cov_hat)/(varx_hat + vary_hat - 2*cov_hat)\n",
    "    \n",
    "    # And then iterate\n",
    "\n",
    "# So now we print the mean and plot the densities\n",
    "plt.hist(boot_stat, density = 1, facecolor='purple', edgecolor = 'white', alpha=0.5);\n",
    "boot_stat.mean()"
   ]
  },
  {
   "cell_type": "markdown",
   "id": "07f95f06",
   "metadata": {},
   "source": [
    "So in this case we can see that the difference between our first $ \\omega $ and the bootstrapped one is significant, in other cases the diefference is way less, for example in the case of Google and IBM we have 0.37 and 0.42 with a standard error of 0.048 and a MSE of 0.0057. "
   ]
  },
  {
   "cell_type": "code",
   "execution_count": 111,
   "id": "bdc45682",
   "metadata": {},
   "outputs": [
    {
     "data": {
      "text/plain": [
       "0.03949081047062581"
      ]
     },
     "execution_count": 111,
     "metadata": {},
     "output_type": "execute_result"
    }
   ],
   "source": [
    "# Here we estimate the bootstrapped standard error as we did in the first exercise\n",
    "boot_stat.std()\n"
   ]
  },
  {
   "cell_type": "markdown",
   "id": "cdea8de4",
   "metadata": {},
   "source": [
    "To calculate the MSE we have the following formula: \n",
    "\n",
    "$$\n",
    "MSE(\\widehat{\\theta}) = \\mathbb{E}[(\\widehat{\\theta} - \\theta)^2] = Var(\\widehat{\\theta}) + (Bias(\\widehat{\\theta}, \\theta))^2\n",
    "$$\n",
    "\n",
    "So in our case we calculate the variance of our bootstrapped estimator and for the bias squared we subtract the value of $\\omega$ previously computed above and the mean of the our boot_stat."
   ]
  },
  {
   "cell_type": "code",
   "execution_count": 112,
   "id": "3a32c61a",
   "metadata": {},
   "outputs": [
    {
     "data": {
      "text/plain": [
       "0.0444840568289135"
      ]
     },
     "execution_count": 112,
     "metadata": {},
     "output_type": "execute_result"
    }
   ],
   "source": [
    "boot_stat.var() + (w - boot_stat.mean())**2 "
   ]
  },
  {
   "cell_type": "markdown",
   "id": "4a68deaf",
   "metadata": {},
   "source": [
    "Now we should be done but as you suggested me in class something's off... \n",
    "We are actually bootstrapping a time series in the same way we bootstrapped iid data and the Close/Open rate isn't probably the most descriptive among performance rates.\n",
    "So the idea is the following: since here we have data which is correlated in time we can't just ignore this fact and resample as the iid case (or at least we shouldn't).\n",
    "So reading a bit online we stumbled upon Block Bootstrap, in the following cells we tried to implement a block bootstrap were we sample performance of weeks and we calculated the performance of a week using a sharpe ratio \n",
    "\n",
    "So for our sharpe ratio $S(x)$ we have \n",
    "$$\n",
    "S(x) = \\frac{r_x - R_f}{StdDev(r_x)}\n",
    "$$\n",
    "Where basically we have at the nominator the performance of the investment ($r_x$) minus the performance of a super-low risk activity ($R_f$)over the standard deviation of the returns of that given period ($StdDev(r_x)$) which accounts for the volatility\n",
    "\n",
    "We calculate $r_x$ as $r_x = \\prod_{i=1}^{5} \\frac{Open_i}{Close_i} - 1$  where open and close are the weekly open and the weekly close \n",
    "\n",
    "For $R_f$ we use the US 10y treasury that is in average around 2% so we will use this value for the calculation of all of our sharpe indexes.\n",
    "\n",
    "There is a little issue with the way we are calculating the sharpe index: doing it in this way we are ignoring \n",
    "\n"
   ]
  },
  {
   "cell_type": "code",
   "execution_count": 113,
   "id": "53fb891d",
   "metadata": {},
   "outputs": [
    {
     "name": "stdout",
     "output_type": "stream",
     "text": [
      "[*********************100%***********************]  1 of 1 completed\n"
     ]
    }
   ],
   "source": [
    "# So here we calculate the weekly sharpe of our two stock \n",
    "# since we calculate the weekly sharpe I thought it might be better to take a 5Y period so as to increase the number of samples we have\n",
    "\n",
    "GOOG = yf.download(\"GOOG\", start=\"2015-01-01\", end=\"2020-01-03\", group_by=\"ticker\") \n",
    "\n",
    "\n",
    "#So our first issue comes with the length of our dataframe, in order to have evenly distributed GOOG_sharpe (of 5 work days we actually do 5 years and 1 day :))\n",
    "\n",
    "len(df) # originally 1259 now 1260 :)\n",
    "\n",
    "weekly_perf = 1\n",
    "GOOG_sharpe = []\n",
    "curr_week = []\n",
    "# debug = []\n",
    "weekcount = 0\n",
    "c = 1\n",
    "# Ok so we want to create two \n",
    "for i, row in GOOG.iterrows():\n",
    "    \n",
    "    open = row[\"Open\"]\n",
    "    close = row[\"Close\"]\n",
    "    \n",
    "    daily_perf = close/open\n",
    "    weekly_perf *= (daily_perf)\n",
    "    curr_week.append(daily_perf)\n",
    "    \n",
    "    if c % 5 == 0: # so every 5 iterations we calculate the weekly sharpe \n",
    "        sharpe = (weekly_perf - 1 - 0.02) / np.array(curr_week).std() \n",
    "        \n",
    "        GOOG_sharpe.append(sharpe)\n",
    "        weekly_perf = 1\n",
    "        # debug.append(curr_week)\n",
    "        # if weekcount == 24:\n",
    "        #     print(i)\n",
    "        weekcount += 1 \n",
    "        curr_week = []\n",
    "        \n",
    "    c += 1"
   ]
  },
  {
   "cell_type": "code",
   "execution_count": 114,
   "id": "be170876",
   "metadata": {},
   "outputs": [
    {
     "name": "stdout",
     "output_type": "stream",
     "text": [
      "[*********************100%***********************]  1 of 1 completed\n"
     ]
    },
    {
     "data": {
      "text/plain": [
       "<AxesSubplot:xlabel='Date'>"
      ]
     },
     "execution_count": 114,
     "metadata": {},
     "output_type": "execute_result"
    },
    {
     "data": {
      "image/png": "[encoded data removed]",
      "text/plain": [
       "<Figure size 432x432 with 1 Axes>"
      ]
     },
     "metadata": {
      "needs_background": "light"
     },
     "output_type": "display_data"
    }
   ],
   "source": [
    "# By reverse engineering (I left the code commented out mostly i got the index of the max and then printed the week\n",
    "# our sharpe indexes this was the one with the highest sharpe index a good week indeed\n",
    "GOOGfeb = yf.download(\"GOOG\", start=\"2018-02-11\", end=\"2018-02-20\", group_by=\"ticker\") \n",
    "GOOGfeb.Close.plot()"
   ]
  },
  {
   "cell_type": "code",
   "execution_count": 115,
   "id": "7c8106cc",
   "metadata": {},
   "outputs": [
    {
     "name": "stdout",
     "output_type": "stream",
     "text": [
      "[*********************100%***********************]  1 of 1 completed\n"
     ]
    },
    {
     "data": {
      "text/plain": [
       "<AxesSubplot:xlabel='Date'>"
      ]
     },
     "execution_count": 115,
     "metadata": {},
     "output_type": "execute_result"
    },
    {
     "data": {
      "image/png": "[encoded data removed]",
      "text/plain": [
       "<Figure size 432x432 with 1 Axes>"
      ]
     },
     "metadata": {
      "needs_background": "light"
     },
     "output_type": "display_data"
    }
   ],
   "source": [
    "# Whereas the lowest was apparently on the five days before 2015-06-30 so doing as above we can verify \n",
    "# if our results made sense\n",
    "\n",
    "GOOGfeb = yf.download(\"GOOG\", start=\"2015-06-24\", end=\"2015-06-30\", group_by=\"ticker\") \n",
    "GOOGfeb.Close.plot()\n",
    "\n",
    "# Now that we are confident enough with our results we can procede to create the same index for facebook"
   ]
  },
  {
   "cell_type": "code",
   "execution_count": 116,
   "id": "742eb75f",
   "metadata": {},
   "outputs": [
    {
     "name": "stdout",
     "output_type": "stream",
     "text": [
      "[*********************100%***********************]  1 of 1 completed\n"
     ]
    }
   ],
   "source": [
    "FB = yf.download(\"FB\", start=\"2015-01-01\", end=\"2020-01-03\", group_by=\"ticker\") \n",
    "\n",
    "\n",
    "# So our first issue comes with the length of our dataframe, in order to have evenly distributed FB_sharpe \n",
    "# (of 5 work days we actually do 5 years and 1 day :))\n",
    "\n",
    "len(df) # originally 1259 now 1260 :)\n",
    "weekly_perf = 1\n",
    "FB_sharpe = []\n",
    "curr_week = []\n",
    "c = 1\n",
    "# Ok so we want to create two \n",
    "for i, row in FB.iterrows():\n",
    "    \n",
    "    open = row[\"Open\"]\n",
    "    close = row[\"Close\"]\n",
    "    \n",
    "    daily_perf = close/open\n",
    "    weekly_perf *=  (daily_perf)\n",
    "    curr_week.append(daily_perf)\n",
    "    #print(f'{weekly_perf} at day {c} ')\n",
    "    if c % 5 == 0:\n",
    "        sharpe = (weekly_perf - 1 - 0.02) / np.array(curr_week).std() # manca da sottrarre \n",
    "        # print(weekly_perf - 1)\n",
    "        FB_sharpe.append(sharpe)\n",
    "        weekly_perf = 1\n",
    "        curr_week = []\n",
    "    c += 1\n",
    "\n"
   ]
  },
  {
   "cell_type": "markdown",
   "id": "83d13a83",
   "metadata": {},
   "source": [
    "Ok so now we can procede with the bootstrap"
   ]
  },
  {
   "cell_type": "code",
   "execution_count": 117,
   "id": "64684725",
   "metadata": {},
   "outputs": [
    {
     "data": {
      "text/plain": [
       "0.8515838537570619"
      ]
     },
     "execution_count": 117,
     "metadata": {},
     "output_type": "execute_result"
    }
   ],
   "source": [
    "covi = np.cov(GOOG_sharpe,FB_sharpe)[0,1]\n",
    "varxi = np.var(GOOG_sharpe)\n",
    "\n",
    "varyi = np.var(FB_sharpe)\n",
    "omega = (varyi - covi)/(varxi + varyi - 2*covi)\n",
    "w\n"
   ]
  },
  {
   "cell_type": "code",
   "execution_count": 118,
   "id": "af9a2c32",
   "metadata": {},
   "outputs": [
    {
     "name": "stdout",
     "output_type": "stream",
     "text": [
      "The bootstrap mean is: 0.38966726044483446 \n",
      "the standard error is 0.05060161254454872 and the MSE is 0.01061591704126641\n"
     ]
    },
    {
     "data": {
      "image/png": "[encoded data removed]",
      "text/plain": [
       "<Figure size 432x432 with 1 Axes>"
      ]
     },
     "metadata": {
      "needs_background": "light"
     },
     "output_type": "display_data"
    }
   ],
   "source": [
    "#We have to convert our good ol python lists to dataframes in order to sample\n",
    "import matplotlib.pyplot as plt\n",
    "G_sharpes = pd.Series(GOOG_sharpe)\n",
    "\n",
    "F_sharpes = pd.Series(FB_sharpe)\n",
    "\n",
    "B = 1000\n",
    "boot_stat = np.zeros(B)\n",
    "\n",
    "\n",
    "for b in range(B):\n",
    "    # so here we have to sample from our dataframe\n",
    "    G_boot = G_sharpes.sample(n = len(G_sharpes), replace = True)\n",
    "\n",
    "    F_boot = F_sharpes.sample(n = len(F_sharpes), replace = True)\n",
    "\n",
    "    \n",
    "    cov_hat = np.cov(G_boot,F_boot)[0,1]\n",
    "    \n",
    "    varx_hat = np.var(G_boot)\n",
    "    \n",
    "    vary_hat = np.var(F_boot)\n",
    "    boot_stat[b] = (vary_hat - cov_hat)/(varx_hat + vary_hat - 2*cov_hat)\n",
    "\n",
    "plt.hist(boot_stat, density = 1, facecolor='purple', edgecolor = 'white', alpha=0.5);\n",
    "\n",
    "print(f\"The bootstrap mean is: {boot_stat.mean()} \\nthe standard error is {boot_stat.std()} and the MSE is {boot_stat.var() + (omega - boot_stat.mean())**2 }\")\n"
   ]
  },
  {
   "cell_type": "code",
   "execution_count": 119,
   "id": "229008a4",
   "metadata": {},
   "outputs": [],
   "source": [
    "#Another intersting analysis could be to see how much this changes increasing the block sizes for this purpose let me define some functions\n",
    "#in order to avoid repeating the same code over and over\n",
    "\n",
    "def create_sharpes(index, blocksize):\n",
    "    df = yf.download(index, start=\"2015-01-01\", end=\"2020-01-03\", group_by=\"ticker\") \n",
    "\n",
    "    weekly_perf = 1\n",
    "    sharpes = []\n",
    "    curr_week = []\n",
    "    c = 1\n",
    "    \n",
    "    for i, row in df.iterrows():\n",
    "        \n",
    "        open = row[\"Open\"]\n",
    "        close = row[\"Close\"]\n",
    "        \n",
    "        daily_perf = close/open\n",
    "        weekly_perf *=  (daily_perf)\n",
    "        curr_week.append(daily_perf)\n",
    "        \n",
    "        if c % blocksize == 0:\n",
    "            sharpe = (weekly_perf - 1 - 0.02) / np.array(curr_week).std()\n",
    "            sharpes.append(sharpe)\n",
    "            weekly_perf = 1\n",
    "            curr_week = []\n",
    "        c += 1\n",
    "    return sharpes\n",
    "\n",
    "def bootstrap(arr1,arr2,len_B):\n",
    "    sharpes1 = pd.Series(arr1)\n",
    "\n",
    "    sharpes2 = pd.Series(arr2)\n",
    "\n",
    "    B = len_B\n",
    "    boot_stat = np.zeros(B)\n",
    "\n",
    "\n",
    "    for b in range(B):\n",
    "        # so here we have to sample from our dataframe\n",
    "        G_boot = sharpes1.sample(n = len(sharpes1), replace = True)\n",
    "\n",
    "        F_boot = sharpes2.sample(n = len(sharpes2), replace = True)\n",
    "\n",
    "        \n",
    "        cov_hat = np.cov(G_boot,F_boot)[0,1]\n",
    "        \n",
    "        varx_hat = np.var(G_boot)\n",
    "        \n",
    "        vary_hat = np.var(F_boot)\n",
    "        boot_stat[b] = (vary_hat - cov_hat)/(varx_hat + vary_hat - 2*cov_hat)\n",
    "    return boot_stat\n"
   ]
  },
  {
   "cell_type": "code",
   "execution_count": 120,
   "id": "a4415ad6",
   "metadata": {},
   "outputs": [
    {
     "name": "stdout",
     "output_type": "stream",
     "text": [
      "[*********************100%***********************]  1 of 1 completed\n",
      "[*********************100%***********************]  1 of 1 completed\n",
      "The bootstrap mean is: 0.5065195939083781 \n",
      "the standard error is 0.0539352832288172 and the MSE is 0.002991587761789977\n"
     ]
    },
    {
     "data": {
      "image/png": "[encoded data removed]",
      "text/plain": [
       "<Figure size 432x432 with 1 Axes>"
      ]
     },
     "metadata": {
      "needs_background": "light"
     },
     "output_type": "display_data"
    }
   ],
   "source": [
    "# So let's try again our analysis with a block size of 15\n",
    "\n",
    "G15_sharpe = create_sharpes(\"GOOG\" , 15)\n",
    "F15_sharpe = create_sharpes(\"FB\" , 15)\n",
    "\n",
    "boot = bootstrap(G15_sharpe, F15_sharpe,1000)\n",
    "\n",
    "cov = np.cov(G15_sharpe,F15_sharpe)[0,1]\n",
    "        \n",
    "varG = np.var(G15_sharpe)\n",
    "\n",
    "varF = np.var(F15_sharpe)\n",
    "omega = (varF - cov)/(varG + varF - 2*cov)\n",
    "        \n",
    "plt.hist(boot, density = 1, facecolor='purple', edgecolor = 'white', alpha=0.5);\n",
    "print(f\"The bootstrap mean is: {boot.mean()} \\nthe standard error is {boot.std()} and the MSE is {boot.var() + (omega - boot.mean())**2 }\")"
   ]
  },
  {
   "cell_type": "code",
   "execution_count": 121,
   "id": "0b5dda7c",
   "metadata": {},
   "outputs": [
    {
     "name": "stdout",
     "output_type": "stream",
     "text": [
      "[*********************100%***********************]  1 of 1 completed\n",
      "[*********************100%***********************]  1 of 1 completed\n",
      "The bootstrap mean is: 0.5132112667060226 \n",
      "the standard error is 0.09698017533035344 and the MSE is 0.00951470986434511\n"
     ]
    },
    {
     "data": {
      "image/png": "[encoded data removed]",
      "text/plain": [
       "<Figure size 432x432 with 1 Axes>"
      ]
     },
     "metadata": {
      "needs_background": "light"
     },
     "output_type": "display_data"
    }
   ],
   "source": [
    "# So let's try again our analysis with a block size of 30\n",
    "\n",
    "G30_sharpe = create_sharpes(\"GOOG\" , 30)\n",
    "F30_sharpe = create_sharpes(\"FB\" , 30)\n",
    "\n",
    "boot = bootstrap(G30_sharpe, F30_sharpe,1000)\n",
    "\n",
    "cov = np.cov(G30_sharpe,F30_sharpe)[0,1]\n",
    "        \n",
    "varG = np.var(G30_sharpe)\n",
    "\n",
    "varF = np.var(F30_sharpe)\n",
    "omega = (varF - cov)/(varG + varF - 2*cov)\n",
    "        \n",
    "\n",
    "plt.hist(boot, density = 1, facecolor='purple', edgecolor = 'white', alpha=0.5);\n",
    "print(f\"The bootstrap mean is: {boot.mean()} \\nthe standard error is {boot.std()} and the MSE is {boot.var() + (omega - boot.mean())**2 }\")"
   ]
  },
  {
   "cell_type": "code",
   "execution_count": 122,
   "id": "8bbc21d8",
   "metadata": {},
   "outputs": [
    {
     "name": "stdout",
     "output_type": "stream",
     "text": [
      "[*********************100%***********************]  1 of 1 completed\n",
      "[*********************100%***********************]  1 of 1 completed\n",
      "The bootstrap mean is: 0.49923745581418816 \n",
      "the standard error is 0.17567950144669048 and the MSE is 0.2045230472617623\n"
     ]
    },
    {
     "data": {
      "image/png": "[encoded data removed]",
      "text/plain": [
       "<Figure size 432x432 with 1 Axes>"
      ]
     },
     "metadata": {
      "needs_background": "light"
     },
     "output_type": "display_data"
    }
   ],
   "source": [
    "\n",
    "G3_sharpe = create_sharpes(\"GOOG\" , 3)\n",
    "F3_sharpe = create_sharpes(\"FB\" , 3)\n",
    "\n",
    "boot = bootstrap(G3_sharpe, G3_sharpe,1000)\n",
    "\n",
    "cov = np.cov(G3_sharpe,F3_sharpe)[0,1]\n",
    "        \n",
    "varG = np.var(G3_sharpe)\n",
    "\n",
    "varF = np.var(F3_sharpe)\n",
    "omega = (varF - cov)/(varG + varF - 2*cov)\n",
    "        \n",
    "\n",
    "\n",
    "plt.hist(boot, density = 1, facecolor='purple', edgecolor = 'white', alpha=0.5)\n",
    "print(f\"The bootstrap mean is: {boot.mean()} \\nthe standard error is {boot.std()} and the MSE is {boot.var() + (omega - boot.mean())**2 }\")"
   ]
  },
  {
   "cell_type": "markdown",
   "id": "094ae3a4",
   "metadata": {},
   "source": [
    "So one issue with the code above is how the performance is calculated is that using the product of the daily performances as a weekly index of performance we are actually losing out on the possible difference of the closing price of one day and opening price of the day after so in the following cell we implemented another version with the rates of closing of one day with the before. As written in the first comment.\n",
    "In this way we have that the product:\n",
    "$$\n",
    "\\prod_{i=2}^{5} \\frac{c_i}{c_{i-1}} = \\frac{c_5}{c_1} \n",
    "$$\n",
    "Where basically i = 1 is monday and i = 5 is friday. \n",
    "So we basically had the strong assumption, in the previous \"create_sharpes\", of selling every day and buying again the next day."
   ]
  },
  {
   "cell_type": "code",
   "execution_count": 123,
   "id": "7af4048f",
   "metadata": {},
   "outputs": [],
   "source": [
    "def create_sharpes_close(index, blocksize):\n",
    "    df = yf.download(index, start=\"2015-01-01\", end=\"2020-01-03\", group_by=\"ticker\") \n",
    "\n",
    "    #mart/lun * merc/mart * giov/merc * ven/giov \n",
    "    weekly_perf = 1\n",
    "    sharpes = []\n",
    "    curr_week = []\n",
    "    c = 1\n",
    "    close1 = 0\n",
    "    add = 0\n",
    "    for i, row in df.iterrows():\n",
    "        close = row[\"Close\"]\n",
    "        \n",
    "        if c == 1 or just_app:\n",
    "            \n",
    "            oldclose = close\n",
    "            c += 1\n",
    "            just_app = False\n",
    "            \n",
    "            continue\n",
    "        \n",
    "        perf = close/oldclose\n",
    "        weekly_perf *= perf\n",
    "        oldclose = close\n",
    "        curr_week.append(perf)\n",
    "        \n",
    "        \n",
    "        if c % blocksize == 0:\n",
    "            sharpe = (weekly_perf - 1 - 0.02) / np.array(curr_week).std()\n",
    "            sharpes.append(sharpe)\n",
    "            add += 1\n",
    "            weekly_perf = 1\n",
    "            curr_week = []\n",
    "            \n",
    "            just_app = True\n",
    "            \n",
    "        c += 1\n",
    "    return sharpes"
   ]
  },
  {
   "cell_type": "code",
   "execution_count": 124,
   "id": "05381471",
   "metadata": {},
   "outputs": [
    {
     "name": "stdout",
     "output_type": "stream",
     "text": [
      "[*********************100%***********************]  1 of 1 completed\n",
      "[*********************100%***********************]  1 of 1 completed\n",
      "The bootstrap mean is: 0.5009714260599765 \n",
      "the standard error is 0.07585589799281978 and the MSE is 0.1808620615908379\n"
     ]
    },
    {
     "data": {
      "image/png": "[encoded data removed]",
      "text/plain": [
       "<Figure size 432x432 with 1 Axes>"
      ]
     },
     "metadata": {
      "needs_background": "light"
     },
     "output_type": "display_data"
    }
   ],
   "source": [
    "\n",
    "G5_sharpe = create_sharpes_close(\"GOOG\" , 5)\n",
    "F5_sharpe = create_sharpes_close(\"FB\" , 5)\n",
    "\n",
    "\n",
    "boot = bootstrap(G5_sharpe, F5_sharpe,1000)\n",
    "\n",
    "plt.hist(boot, density = 1, facecolor='purple', edgecolor = 'white', alpha=0.5)\n",
    "print(f\"The bootstrap mean is: {boot.mean()} \\nthe standard error is {boot.std()} and the MSE is {boot.var() + (omega - boot.mean())**2 }\")"
   ]
  },
  {
   "cell_type": "code",
   "execution_count": 125,
   "id": "437e608c",
   "metadata": {},
   "outputs": [
    {
     "name": "stdout",
     "output_type": "stream",
     "text": [
      "[*********************100%***********************]  1 of 1 completed\n",
      "[*********************100%***********************]  1 of 1 completed\n",
      "The bootstrap mean is: 0.6222794248557 \n",
      "the standard error is 0.18553214978727398 and the MSE is 0.3257706040404974\n"
     ]
    },
    {
     "data": {
      "image/png": "[encoded data removed]",
      "text/plain": [
       "<Figure size 432x432 with 1 Axes>"
      ]
     },
     "metadata": {
      "needs_background": "light"
     },
     "output_type": "display_data"
    }
   ],
   "source": [
    "# I just wanted to see what would happen if we only had 10 blocks, probably as we have less and less blocks our bootstrapped \\omega will continue \n",
    "# to increase and the errors keep getting bigger\n",
    "G126_sharpe = create_sharpes_close(\"GOOG\" ,126)\n",
    "F126_sharpe = create_sharpes_close(\"FB\" , 126)\n",
    "\n",
    "\n",
    "boot = bootstrap(G126_sharpe, F126_sharpe,1000)\n",
    "\n",
    "plt.hist(boot, density = 1, facecolor='purple', edgecolor = 'white', alpha=0.5)\n",
    "print(f\"The bootstrap mean is: {boot.mean()} \\nthe standard error is {boot.std()} and the MSE is {boot.var() + (omega - boot.mean())**2 }\")"
   ]
  },
  {
   "cell_type": "markdown",
   "id": "60c052c9",
   "metadata": {},
   "source": [
    "The result is pretty much consistent among the sharpe examples but is quite far from the first time we calculated $\\omega$ and still far but surely closer to the first bootstrapped $\\omega$. Still this result is probably more reliable since we are bootstrapping the time series in blocks taking into account the temporal dependencies of time series by bootstrapping in blocks. Sorry if this addendum was way bigger than it should have been but I got a bit carried away."
   ]
  }
 ],
 "metadata": {
  "kernelspec": {
   "display_name": "Python 3 (ipykernel)",
   "language": "python",
   "name": "python3"
  },
  "language_info": {
   "codemirror_mode": {
    "name": "ipython",
    "version": 3
   },
   "file_extension": ".py",
   "mimetype": "text/x-python",
   "name": "python",
   "nbconvert_exporter": "python",
   "pygments_lexer": "ipython3",
   "version": "3.8.3"
  }
 },
 "nbformat": 4,
 "nbformat_minor": 4
}
