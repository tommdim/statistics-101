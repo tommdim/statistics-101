{
 "cells": [
  {
   "cell_type": "markdown",
   "id": "de9442ca-3581-4baa-b96e-f68302f94231",
   "metadata": {},
   "source": [
    "### Exercise 02 | Toy portfolio"
   ]
  },
  {
   "cell_type": "markdown",
   "id": "c4a41253-5fa1-46a6-8483-1da8d6b1525e",
   "metadata": {},
   "source": [
    "Suppose that we have two random variables $X$ and $Y$ which represent the yields of two financial assets. \n",
    "\n",
    "We will invest a fraction of our money, say $\\omega$, in $X$ and the remaining fraction $(1 - \\omega)$ in $Y$.\n",
    "\n",
    "Our yield will hence be\n",
    "$$\n",
    "\\omega \\cdot X + (1 - \\omega) \\cdot Y.\n",
    "$$\n",
    "Because this is a random quantity, we may want to choose $\\omega$ to minimize the variance of our investment. <br>\n",
    "One can show that the value of $\\omega$ minimizing\n",
    "$$\n",
    "\\mathbb{V}\\text{ar}\\big( \\omega \\cdot X + (1 - \\omega) \\cdot Y \\big),\n",
    "$$\n",
    "is indeed\n",
    "$$\n",
    "%\\begin{equation}\\label{eq:opt}\n",
    "\\omega^\\star = \\frac{\\sigma^2_Y - \\sigma_{X,Y}}{\\sigma^2_X + \\sigma^2_Y - 2\\cdot \\sigma_{X,Y}},\n",
    "%\\end{equation}\n",
    "$$\n",
    "\n",
    "where $\\sigma^2_X = \\mathbb{V}\\text{ar}(X)$, $\\sigma^2_Y = \\mathbb{V}\\text{ar}(Y)$, $\\sigma_{X,Y} = \\mathbb{C}\\text{ov}(X,Y)$.\n",
    "\n",
    "\n",
    "Given a random sample $\\big\\{ (X_1,Y_1), \\ldots, (X_n,Y_n)\\big\\}$ for the returns, we can compute the following plug-in estimator for $\\omega^\\star$\n",
    "$$\n",
    "\\widehat{\\omega} = \\frac{ \\widehat{\\sigma}^2_Y - \\widehat{\\sigma}_{X,Y}}{\\widehat{\\sigma}^2_X + \\widehat{\\sigma}^2_Y - 2\\cdot \\widehat{\\sigma}_{X,Y}},\n",
    "$$\n",
    "Note that even if we knew a parametric form (say bivariate normal) for the joint distribution of $X$ and $Y$, performing formal calculations involving $\\widehat{\\omega}$ would be difficult, because of the presence of sample estimates (sample variances and covariance) in its numerator and denominator.\n",
    "\n",
    "As you can imagine, we can pull financial data into `Python` in many different ways\n",
    "To get the stocks info you have to know (in advance) the symbol associated to that stock (e.g. `Apple Inc.`, `IBM`, etc.) in a particular market (e.g. `NYSE`, `NASDAQ`). You can easily obtain this from portals like [Yahoo! Finance](https://it.finance.yahoo.com/). For example try something like:"
   ]
  },
  {
   "cell_type": "code",
   "execution_count": 649,
   "id": "d8bdcdb9-1b55-4b9e-a6c1-6a4f44c8c074",
   "metadata": {},
   "outputs": [],
   "source": [
    "# url: https://pypi.org/project/fix-yahoo-finance/\n",
    "\n",
    "# Install\n",
    "# pip install yfinance --upgrade --no-cache-dir\n",
    "import yfinance as yf"
   ]
  },
  {
   "cell_type": "code",
   "execution_count": 650,
   "id": "b5cec1dd-db63-4870-bd3a-936109d0e085",
   "metadata": {},
   "outputs": [
    {
     "name": "stdout",
     "output_type": "stream",
     "text": [
      "[*********************100%***********************]  3 of 3 completed\n"
     ]
    },
    {
     "data": {
      "text/html": [
       "<div>\n",
       "<style scoped>\n",
       "    .dataframe tbody tr th:only-of-type {\n",
       "        vertical-align: middle;\n",
       "    }\n",
       "\n",
       "    .dataframe tbody tr th {\n",
       "        vertical-align: top;\n",
       "    }\n",
       "\n",
       "    .dataframe thead tr th {\n",
       "        text-align: left;\n",
       "    }\n",
       "\n",
       "    .dataframe thead tr:last-of-type th {\n",
       "        text-align: right;\n",
       "    }\n",
       "</style>\n",
       "<table border=\"1\" class=\"dataframe\">\n",
       "  <thead>\n",
       "    <tr>\n",
       "      <th></th>\n",
       "      <th colspan=\"6\" halign=\"left\">AAPL</th>\n",
       "      <th colspan=\"6\" halign=\"left\">IBM</th>\n",
       "      <th colspan=\"6\" halign=\"left\">GOOG</th>\n",
       "    </tr>\n",
       "    <tr>\n",
       "      <th></th>\n",
       "      <th>Open</th>\n",
       "      <th>High</th>\n",
       "      <th>Low</th>\n",
       "      <th>Close</th>\n",
       "      <th>Adj Close</th>\n",
       "      <th>Volume</th>\n",
       "      <th>Open</th>\n",
       "      <th>High</th>\n",
       "      <th>Low</th>\n",
       "      <th>Close</th>\n",
       "      <th>Adj Close</th>\n",
       "      <th>Volume</th>\n",
       "      <th>Open</th>\n",
       "      <th>High</th>\n",
       "      <th>Low</th>\n",
       "      <th>Close</th>\n",
       "      <th>Adj Close</th>\n",
       "      <th>Volume</th>\n",
       "    </tr>\n",
       "    <tr>\n",
       "      <th>Date</th>\n",
       "      <th></th>\n",
       "      <th></th>\n",
       "      <th></th>\n",
       "      <th></th>\n",
       "      <th></th>\n",
       "      <th></th>\n",
       "      <th></th>\n",
       "      <th></th>\n",
       "      <th></th>\n",
       "      <th></th>\n",
       "      <th></th>\n",
       "      <th></th>\n",
       "      <th></th>\n",
       "      <th></th>\n",
       "      <th></th>\n",
       "      <th></th>\n",
       "      <th></th>\n",
       "      <th></th>\n",
       "    </tr>\n",
       "  </thead>\n",
       "  <tbody>\n",
       "    <tr>\n",
       "      <th>2018-12-31</th>\n",
       "      <td>39.632500</td>\n",
       "      <td>39.840000</td>\n",
       "      <td>39.119999</td>\n",
       "      <td>39.435001</td>\n",
       "      <td>38.233898</td>\n",
       "      <td>140014000</td>\n",
       "      <td>108.346077</td>\n",
       "      <td>109.321220</td>\n",
       "      <td>107.476097</td>\n",
       "      <td>108.671127</td>\n",
       "      <td>92.693748</td>\n",
       "      <td>5212009</td>\n",
       "      <td>1050.959961</td>\n",
       "      <td>1052.699951</td>\n",
       "      <td>1023.590027</td>\n",
       "      <td>1035.609985</td>\n",
       "      <td>1035.609985</td>\n",
       "      <td>1493300</td>\n",
       "    </tr>\n",
       "    <tr>\n",
       "      <th>2019-01-02</th>\n",
       "      <td>38.722500</td>\n",
       "      <td>39.712502</td>\n",
       "      <td>38.557499</td>\n",
       "      <td>39.480000</td>\n",
       "      <td>38.277527</td>\n",
       "      <td>148158800</td>\n",
       "      <td>107.084129</td>\n",
       "      <td>110.879539</td>\n",
       "      <td>106.778206</td>\n",
       "      <td>110.143402</td>\n",
       "      <td>93.949570</td>\n",
       "      <td>4434935</td>\n",
       "      <td>1016.570007</td>\n",
       "      <td>1052.319946</td>\n",
       "      <td>1015.710022</td>\n",
       "      <td>1045.849976</td>\n",
       "      <td>1045.849976</td>\n",
       "      <td>1532600</td>\n",
       "    </tr>\n",
       "    <tr>\n",
       "      <th>2019-01-03</th>\n",
       "      <td>35.994999</td>\n",
       "      <td>36.430000</td>\n",
       "      <td>35.500000</td>\n",
       "      <td>35.547501</td>\n",
       "      <td>34.464802</td>\n",
       "      <td>365248800</td>\n",
       "      <td>109.493309</td>\n",
       "      <td>109.827919</td>\n",
       "      <td>107.734222</td>\n",
       "      <td>107.944550</td>\n",
       "      <td>92.073990</td>\n",
       "      <td>4546648</td>\n",
       "      <td>1041.000000</td>\n",
       "      <td>1056.979980</td>\n",
       "      <td>1014.070007</td>\n",
       "      <td>1016.059998</td>\n",
       "      <td>1016.059998</td>\n",
       "      <td>1841100</td>\n",
       "    </tr>\n",
       "    <tr>\n",
       "      <th>2019-01-04</th>\n",
       "      <td>36.132500</td>\n",
       "      <td>37.137501</td>\n",
       "      <td>35.950001</td>\n",
       "      <td>37.064999</td>\n",
       "      <td>35.936077</td>\n",
       "      <td>234428400</td>\n",
       "      <td>109.856598</td>\n",
       "      <td>112.323135</td>\n",
       "      <td>109.407265</td>\n",
       "      <td>112.160614</td>\n",
       "      <td>95.670197</td>\n",
       "      <td>4683779</td>\n",
       "      <td>1032.589966</td>\n",
       "      <td>1070.839966</td>\n",
       "      <td>1027.417969</td>\n",
       "      <td>1070.709961</td>\n",
       "      <td>1070.709961</td>\n",
       "      <td>2093900</td>\n",
       "    </tr>\n",
       "    <tr>\n",
       "      <th>2019-01-07</th>\n",
       "      <td>37.174999</td>\n",
       "      <td>37.207500</td>\n",
       "      <td>36.474998</td>\n",
       "      <td>36.982498</td>\n",
       "      <td>35.856094</td>\n",
       "      <td>219111200</td>\n",
       "      <td>112.332695</td>\n",
       "      <td>113.604210</td>\n",
       "      <td>111.539200</td>\n",
       "      <td>112.954109</td>\n",
       "      <td>96.347031</td>\n",
       "      <td>3923755</td>\n",
       "      <td>1071.500000</td>\n",
       "      <td>1074.000000</td>\n",
       "      <td>1054.760010</td>\n",
       "      <td>1068.390015</td>\n",
       "      <td>1068.390015</td>\n",
       "      <td>1981900</td>\n",
       "    </tr>\n",
       "  </tbody>\n",
       "</table>\n",
       "</div>"
      ],
      "text/plain": [
       "                 AAPL                                                         \\\n",
       "                 Open       High        Low      Close  Adj Close     Volume   \n",
       "Date                                                                           \n",
       "2018-12-31  39.632500  39.840000  39.119999  39.435001  38.233898  140014000   \n",
       "2019-01-02  38.722500  39.712502  38.557499  39.480000  38.277527  148158800   \n",
       "2019-01-03  35.994999  36.430000  35.500000  35.547501  34.464802  365248800   \n",
       "2019-01-04  36.132500  37.137501  35.950001  37.064999  35.936077  234428400   \n",
       "2019-01-07  37.174999  37.207500  36.474998  36.982498  35.856094  219111200   \n",
       "\n",
       "                   IBM                                                 \\\n",
       "                  Open        High         Low       Close  Adj Close   \n",
       "Date                                                                    \n",
       "2018-12-31  108.346077  109.321220  107.476097  108.671127  92.693748   \n",
       "2019-01-02  107.084129  110.879539  106.778206  110.143402  93.949570   \n",
       "2019-01-03  109.493309  109.827919  107.734222  107.944550  92.073990   \n",
       "2019-01-04  109.856598  112.323135  109.407265  112.160614  95.670197   \n",
       "2019-01-07  112.332695  113.604210  111.539200  112.954109  96.347031   \n",
       "\n",
       "                            GOOG                                         \\\n",
       "             Volume         Open         High          Low        Close   \n",
       "Date                                                                      \n",
       "2018-12-31  5212009  1050.959961  1052.699951  1023.590027  1035.609985   \n",
       "2019-01-02  4434935  1016.570007  1052.319946  1015.710022  1045.849976   \n",
       "2019-01-03  4546648  1041.000000  1056.979980  1014.070007  1016.059998   \n",
       "2019-01-04  4683779  1032.589966  1070.839966  1027.417969  1070.709961   \n",
       "2019-01-07  3923755  1071.500000  1074.000000  1054.760010  1068.390015   \n",
       "\n",
       "                                  \n",
       "              Adj Close   Volume  \n",
       "Date                              \n",
       "2018-12-31  1035.609985  1493300  \n",
       "2019-01-02  1045.849976  1532600  \n",
       "2019-01-03  1016.059998  1841100  \n",
       "2019-01-04  1070.709961  2093900  \n",
       "2019-01-07  1068.390015  1981900  "
      ]
     },
     "execution_count": 650,
     "metadata": {},
     "output_type": "execute_result"
    }
   ],
   "source": [
    "df = yf.download(\"IBM GOOG AAPL\", start=\"2019-01-01\", end=\"2020-01-01\", group_by=\"ticker\") \n",
    "df.head() "
   ]
  },
  {
   "cell_type": "code",
   "execution_count": 651,
   "id": "8dbc98f0-7d86-421c-bc97-da85ac0b658b",
   "metadata": {},
   "outputs": [
    {
     "data": {
      "text/plain": [
       "count    253.000000\n",
       "mean       1.001843\n",
       "std        0.010322\n",
       "min        0.967579\n",
       "25%        0.995693\n",
       "50%        1.001823\n",
       "75%        1.007957\n",
       "max        1.039548\n",
       "dtype: float64"
      ]
     },
     "execution_count": 651,
     "metadata": {},
     "output_type": "execute_result"
    }
   ],
   "source": [
    "# Build some relative performance measure like the ratio Close/Open\n",
    "AP_ret = df.AAPL.Close/df.AAPL.Open\n",
    "\n",
    "# Take a look\n",
    "#AP_ret.plot();\n",
    "\n",
    "AP_ret.describe()"
   ]
  },
  {
   "cell_type": "code",
   "execution_count": 652,
   "id": "4e73d38c",
   "metadata": {},
   "outputs": [
    {
     "data": {
      "text/plain": [
       "<AxesSubplot:xlabel='Date'>"
      ]
     },
     "execution_count": 652,
     "metadata": {},
     "output_type": "execute_result"
    },
    {
     "data": {
      "image/png": "[encoded data removed]",
      "text/plain": [
       "<Figure size 432x288 with 1 Axes>"
      ]
     },
     "metadata": {
      "needs_background": "light"
     },
     "output_type": "display_data"
    }
   ],
   "source": [
    "# Build some relative performance measure like the ratio Close/Open\n",
    "IBM_ret = df.IBM.Close/df.IBM.Open\n",
    "\n",
    "# Take a look\n",
    "#IBM_ret.plot();\n",
    "\n",
    "df.GOOG.Open.plot()"
   ]
  },
  {
   "cell_type": "markdown",
   "id": "323f8911-44fa-4fc8-a443-df8a8334048b",
   "metadata": {},
   "source": [
    "### To Do\n",
    "\n",
    "1. Prove (analytically) that $\\omega^\\star$ in fact minimizes the volatility of your investment.\n",
    "\n",
    "2. Pick two stocks, gather their returns/performance measure in `Python` over a 1 year long period of your choosing, and implement a **nonparametric bootstrap** scheme to get (approximate) estimates for the **standard error** and **MSE** of the plug-in estimator $\\widehat{\\omega}$."
   ]
  },
  {
   "cell_type": "markdown",
   "id": "701bd5c3",
   "metadata": {},
   "source": [
    "# Soooo point 1\n",
    "\n",
    "We start from our variance and we apply the following property:\n",
    "$$\n",
    "Var(aX + bY) = a^2 \\; \\sigma^2_X +  b^2 \\; \\sigma^2_Y + 2ab \\; \\sigma_{X,Y}\n",
    "$$\n",
    "\n",
    "So we have the following:\n",
    "$$\n",
    "Var (\\omega \\cdot X + (1 - \\omega) \\cdot Y) =  \\omega^2 \\; \\sigma^2_X + (1-\\omega) ^ 2 \\; \\sigma^2_Y + 2\\omega (1- \\omega)  \\sigma_{X,Y}\n",
    "$$\n",
    "Expanding the paretheses we get:\n",
    "$$\n",
    "\\omega^2 \\; \\sigma^2_X + \\sigma^2_Y + \\omega^2 \\; \\sigma^2_Y -2\\omega \\sigma^2_Y + 2 \\omega \\sigma_{X,Y} - 2 \\omega^2 \\sigma_{X,Y}\n",
    "$$\n",
    "\n",
    "Now in order to minimize $\\omega$ we have to derivate with respect to $\\omega$ and solve the equation $\\frac{ d Var(\\omega \\cdot X + (1 - \\omega) \\cdot Y)}{d \\omega} = 0$\n",
    "\n",
    "So our taking the derivative wrt to $\\omega$ we have:\n",
    "$$\n",
    "\\frac{ d \\; Var(\\omega \\cdot X + (1 - \\omega) \\cdot Y)}{d \\; \\omega} = 2\\omega \\; \\sigma^2_X  +  2\\omega \\; \\sigma^2_Y - 2 \\sigma^2_Y + 2 \\sigma_{X,Y} - 4 \\omega \\sigma_{X,Y}\n",
    "$$\n",
    "\n",
    "Equating this to 0 and factoring out $\\omega$ we have:\n",
    "$$\n",
    "\\omega (2\\sigma^2_X + 2\\sigma^2_Y - 4 \\sigma_{X,Y}) = 2\\sigma^2_X - 2 \\sigma_{X,Y}\n",
    "$$\n",
    "Finally, solving for $\\omega$ we get:\n",
    "$$\n",
    "\\omega^\\star = \\frac{2\\sigma^2_Y -  2 \\sigma_{X,Y}}{2\\sigma^2_X + 2\\sigma^2_Y - 4 \\sigma_{X,Y}}\n",
    "$$\n",
    "Simplifying the coefficients:\n",
    "$$\n",
    "\\omega^\\star = \\frac{\\sigma^2_Y -  \\sigma_{X,Y}}{\\sigma^2_X + \\sigma^2_Y - 2 \\sigma_{X,Y}}\n",
    "$$"
   ]
  },
  {
   "cell_type": "markdown",
   "id": "72545fc6",
   "metadata": {},
   "source": [
    "# Point 2\n",
    "2. Pick two stocks, gather their returns/performance measure in `Python` over a 1 year long period of your choosing, and implement a **nonparametric bootstrap** scheme to get (approximate) estimates for the **standard error** and **MSE** of the plug-in estimator $\\widehat{\\omega}$."
   ]
  },
  {
   "cell_type": "code",
   "execution_count": 653,
   "id": "2fc0e659",
   "metadata": {},
   "outputs": [
    {
     "name": "stdout",
     "output_type": "stream",
     "text": [
      "[*********************100%***********************]  2 of 2 completed\n",
      "253\n",
      "253\n"
     ]
    },
    {
     "data": {
      "text/plain": [
       "0.8515838537570619"
      ]
     },
     "execution_count": 653,
     "metadata": {},
     "output_type": "execute_result"
    },
    {
     "data": {
      "image/png": "[encoded data removed]",
      "text/plain": [
       "<Figure size 432x288 with 1 Axes>"
      ]
     },
     "metadata": {
      "needs_background": "light"
     },
     "output_type": "display_data"
    }
   ],
   "source": [
    "#first things first we clean our data and create our data frame\n",
    "import numpy as np\n",
    "\n",
    "df = yf.download(\"FB, GOOG\", start=\"2019-01-01\", end=\"2020-01-01\", group_by=\"ticker\") \n",
    "\n",
    "GOOG_ret = df.GOOG.Close/df.GOOG.Open\n",
    "\n",
    "FB_ret = df[\"FB\"].Close/df[\"FB\"].Open\n",
    "\n",
    "print(len(GOOG_ret))  \n",
    "print(len(FB_ret)) # little sanity check to check that they have the same length\n",
    "FB_ret.plot()\n",
    "GOOG_ret.plot()\n",
    "\n",
    "varx, cov  = np.cov(GOOG_ret,FB_ret)[0] # here we unpack the covariance matrix to get both variances and cov\n",
    "_ , vary = np.cov(GOOG_ret,FB_ret)[1]\n",
    "\n",
    "w = (vary - cov)/ (varx + vary - 2 *cov)\n",
    "w #here we calculated omega on our initial data set to compare it with the bootstrapped one\n"
   ]
  },
  {
   "cell_type": "markdown",
   "id": "b527d933",
   "metadata": {},
   "source": [
    "Above we have the graphs of the daily close/open ratio: google in orange and facebook in blue."
   ]
  },
  {
   "cell_type": "code",
   "execution_count": 672,
   "id": "70a1568c",
   "metadata": {},
   "outputs": [
    {
     "data": {
      "text/plain": [
       "0.6438949636490859"
      ]
     },
     "execution_count": 672,
     "metadata": {},
     "output_type": "execute_result"
    },
    {
     "data": {
      "image/png": "[encoded data removed]",
      "text/plain": [
       "<Figure size 432x288 with 1 Axes>"
      ]
     },
     "metadata": {
      "needs_background": "light"
     },
     "output_type": "display_data"
    }
   ],
   "source": [
    "import pandas as pd\n",
    "# Pre-allocate and initilize\n",
    "B = 1000\n",
    "boot_stat = np.zeros(B)\n",
    "\n",
    "for b in range(B):\n",
    "    # so here we have to sample from our dataframe\n",
    "    x_boot = GOOG_ret.sample(n = len(GOOG_ret), replace = True)\n",
    "    y_boot = FB_ret.sample(n = len(FB_ret), replace = True)\n",
    "\n",
    "    # Now that we have resampled from our initial dataset we proceed by estimating covariance and the variances.\n",
    "    \n",
    "    cov_hat = np.cov(x_boot,y_boot)[0,1]\n",
    "    \n",
    "    varx_hat = np.var(x_boot)\n",
    "    \n",
    "    vary_hat = np.var(y_boot)\n",
    "    \n",
    "    # The last stap is to fill the boot_stat array \n",
    "    boot_stat[b] = (vary_hat - cov_hat)/(varx_hat + vary_hat - 2*cov_hat)\n",
    "    \n",
    "    # And then iterate\n",
    "\n",
    "# So now we print the mean and plot the densities\n",
    "plt.hist(boot_stat, density = 1, facecolor='purple', edgecolor = 'white', alpha=0.5);\n",
    "boot_stat.mean()"
   ]
  },
  {
   "cell_type": "markdown",
   "id": "07f95f06",
   "metadata": {},
   "source": [
    "So in this case we can see that the difference between our first $ \\omega $ and the bootstrapped one is significant, in other cases the diefference is way less, for example in the case of Google and IBM we have 0.37 and 0.42 with a standard error of 0.048 and a MSE of 0.0057. "
   ]
  },
  {
   "cell_type": "code",
   "execution_count": 655,
   "id": "bdc45682",
   "metadata": {},
   "outputs": [
    {
     "data": {
      "text/plain": [
       "0.03935130040125919"
      ]
     },
     "execution_count": 655,
     "metadata": {},
     "output_type": "execute_result"
    }
   ],
   "source": [
    "# Here we estimate the bootstrapped standard error as we did in the first exercise\n",
    "boot_stat.std()\n"
   ]
  },
  {
   "cell_type": "markdown",
   "id": "cdea8de4",
   "metadata": {},
   "source": [
    "To calculate the MSE we have the following formula: \n",
    "\n",
    "$$\n",
    "MSE(\\widehat{\\theta}) = \\mathbb{E}[(\\widehat{\\theta} - \\theta)^2] = Var(\\widehat{\\theta}) + (Bias(\\widehat{\\theta}, \\theta))^2\n",
    "$$\n",
    "\n",
    "So in our case we calculate the variance of our bootstrapped estimator and for the bias squared we subtract the value of $\\omega$ previously computed above and the mean of the our boot_stat."
   ]
  },
  {
   "cell_type": "code",
   "execution_count": 656,
   "id": "3a32c61a",
   "metadata": {},
   "outputs": [
    {
     "data": {
      "text/plain": [
       "0.04410592178100338"
      ]
     },
     "execution_count": 656,
     "metadata": {},
     "output_type": "execute_result"
    }
   ],
   "source": [
    "boot_stat.var() + (w - boot_stat.mean())**2 "
   ]
  },
  {
   "cell_type": "markdown",
   "id": "4a68deaf",
   "metadata": {},
   "source": [
    "Now we should be done but as you suggested me in class something's off... \n",
    "We are actually bootstrapping a time series in the same way we bootstrapped iid data and the Close/Open rate isn't probably the most descriptive among performance rates.\n",
    "So the idea is the following: since here we have data which is correlated in time we can't just ignore this fact and resample as the iid case (or at least we shouldn't).\n",
    "So reading a bit online we stumbled upon Block Bootstrap, in the following cells we tried to implement a block bootstrap were we sample performance of weeks and we calculated the performance of a week using a sharpe ratio \n",
    "\n",
    "So for our sharpe ratio $S(x)$ we have \n",
    "$$\n",
    "S(x) = \\frac{r_x - R_f}{StdDev(r_x)}\n",
    "$$\n",
    "Where basically we have at the nominator the performance of the investment ($r_x$) minus the performance of a super-low risk activity ($R_f$)over the standard deviation of the returns of that given period ($StdDev(r_x)$) which accounts for the volatility\n",
    "\n",
    "We calculate $r_x$ as $r_x = \\prod_{i=1}^{5} \\frac{Open_i}{Close_i} - 1$  where open and close are the weekly open and the weekly close \n",
    "\n",
    "For $R_f$ we use the US 10y treasury that is in average around 2% so we will use this value for the calculation of all of our sharpe indexes.\n",
    "\n",
    "There is a little issue with the way we are calculating the sharpe index: doing it in this way we are ignoring \n",
    "\n"
   ]
  },
  {
   "cell_type": "code",
   "execution_count": 657,
   "id": "53fb891d",
   "metadata": {},
   "outputs": [
    {
     "name": "stdout",
     "output_type": "stream",
     "text": [
      "[*********************100%***********************]  1 of 1 completed\n"
     ]
    }
   ],
   "source": [
    "# So here we calculate the weekly sharpe of our two stock \n",
    "# since we calculate the weekly sharpe I thought it might be better to take a 5Y period so as to increase the number of samples we have\n",
    "\n",
    "GOOG = yf.download(\"GOOG\", start=\"2015-01-01\", end=\"2020-01-03\", group_by=\"ticker\") \n",
    "\n",
    "\n",
    "#So our first issue comes with the length of our dataframe, in order to have evenly distributed GOOG_sharpe (of 5 work days we actually do 5 years and 1 day :))\n",
    "\n",
    "len(df) # originally 1259 now 1260 :)\n",
    "\n",
    "weekly_perf = 1\n",
    "GOOG_sharpe = []\n",
    "curr_week = []\n",
    "# debug = []\n",
    "weekcount = 0\n",
    "c = 1\n",
    "# Ok so we want to create two \n",
    "for i, row in GOOG.iterrows():\n",
    "    \n",
    "    open = row[\"Open\"]\n",
    "    close = row[\"Close\"]\n",
    "    \n",
    "    daily_perf = close/open\n",
    "    weekly_perf *= (daily_perf)\n",
    "    curr_week.append(daily_perf)\n",
    "    \n",
    "    if c % 5 == 0: # so every 5 iterations we calculate the weekly sharpe \n",
    "        sharpe = (weekly_perf - 1 - 0.02) / np.array(curr_week).std() \n",
    "        \n",
    "        GOOG_sharpe.append(sharpe)\n",
    "        weekly_perf = 1\n",
    "        # debug.append(curr_week)\n",
    "        # if weekcount == 24:\n",
    "        #     print(i)\n",
    "        weekcount += 1 \n",
    "        curr_week = []\n",
    "        \n",
    "    c += 1\n",
    "\n",
    "\n",
    "    \n",
    "\n"
   ]
  },
  {
   "cell_type": "code",
   "execution_count": 658,
   "id": "be170876",
   "metadata": {},
   "outputs": [
    {
     "name": "stdout",
     "output_type": "stream",
     "text": [
      "[*********************100%***********************]  1 of 1 completed\n"
     ]
    },
    {
     "data": {
      "text/plain": [
       "<AxesSubplot:xlabel='Date'>"
      ]
     },
     "execution_count": 658,
     "metadata": {},
     "output_type": "execute_result"
    },
    {
     "data": {
      "image/png": "[encoded data removed]",
      "text/plain": [
       "<Figure size 432x288 with 1 Axes>"
      ]
     },
     "metadata": {
      "needs_background": "light"
     },
     "output_type": "display_data"
    }
   ],
   "source": [
    "# By reverse engineering (I left the code commented out mostly i got the index of the max and then printed the week\n",
    "# our sharpe indexes this was the one with the highest sharpe index a good week indeed\n",
    "GOOGfeb = yf.download(\"GOOG\", start=\"2018-02-11\", end=\"2018-02-20\", group_by=\"ticker\") \n",
    "GOOGfeb.Close.plot()"
   ]
  },
  {
   "cell_type": "code",
   "execution_count": 659,
   "id": "7c8106cc",
   "metadata": {},
   "outputs": [
    {
     "name": "stdout",
     "output_type": "stream",
     "text": [
      "[*********************100%***********************]  1 of 1 completed\n"
     ]
    },
    {
     "data": {
      "text/plain": [
       "<AxesSubplot:xlabel='Date'>"
      ]
     },
     "execution_count": 659,
     "metadata": {},
     "output_type": "execute_result"
    },
    {
     "data": {
      "image/png": "[encoded data removed]",
      "text/plain": [
       "<Figure size 432x288 with 1 Axes>"
      ]
     },
     "metadata": {
      "needs_background": "light"
     },
     "output_type": "display_data"
    }
   ],
   "source": [
    "# Whereas the lowest was apparently on the five days before 2015-06-30 so doing as above we can verify \n",
    "# if our results made sense\n",
    "\n",
    "GOOGfeb = yf.download(\"GOOG\", start=\"2015-06-24\", end=\"2015-06-30\", group_by=\"ticker\") \n",
    "GOOGfeb.Close.plot()\n",
    "\n",
    "# Now that we are confident enough with our results we can procede to create the same index for facebook"
   ]
  },
  {
   "cell_type": "code",
   "execution_count": 660,
   "id": "742eb75f",
   "metadata": {},
   "outputs": [
    {
     "name": "stdout",
     "output_type": "stream",
     "text": [
      "[*********************100%***********************]  1 of 1 completed\n"
     ]
    }
   ],
   "source": [
    "FB = yf.download(\"FB\", start=\"2015-01-01\", end=\"2020-01-03\", group_by=\"ticker\") \n",
    "\n",
    "\n",
    "# So our first issue comes with the length of our dataframe, in order to have evenly distributed FB_sharpe \n",
    "# (of 5 work days we actually do 5 years and 1 day :))\n",
    "\n",
    "len(df) # originally 1259 now 1260 :)\n",
    "weekly_perf = 1\n",
    "FB_sharpe = []\n",
    "curr_week = []\n",
    "c = 1\n",
    "# Ok so we want to create two \n",
    "for i, row in FB.iterrows():\n",
    "    \n",
    "    open = row[\"Open\"]\n",
    "    close = row[\"Close\"]\n",
    "    \n",
    "    daily_perf = close/open\n",
    "    weekly_perf *=  (daily_perf)\n",
    "    curr_week.append(daily_perf)\n",
    "    #print(f'{weekly_perf} at day {c} ')\n",
    "    if c % 5 == 0:\n",
    "        sharpe = (weekly_perf - 1 - 0.02) / np.array(curr_week).std() # manca da sottrarre \n",
    "        # print(weekly_perf - 1)\n",
    "        FB_sharpe.append(sharpe)\n",
    "        weekly_perf = 1\n",
    "        curr_week = []\n",
    "    c += 1\n",
    "\n"
   ]
  },
  {
   "cell_type": "markdown",
   "id": "83d13a83",
   "metadata": {},
   "source": [
    "Ok so now we can procede with the bootstrap"
   ]
  },
  {
   "cell_type": "code",
   "execution_count": 661,
   "id": "64684725",
   "metadata": {},
   "outputs": [
    {
     "data": {
      "text/plain": [
       "0.8515838537570619"
      ]
     },
     "execution_count": 661,
     "metadata": {},
     "output_type": "execute_result"
    }
   ],
   "source": [
    "covi = np.cov(GOOG_sharpe,FB_sharpe)[0,1]\n",
    "varxi = np.var(GOOG_sharpe)\n",
    "\n",
    "varyi = np.var(FB_sharpe)\n",
    "omega = (varyi - covi)/(varxi + varyi - 2*covi)\n",
    "w\n"
   ]
  },
  {
   "cell_type": "code",
   "execution_count": 662,
   "id": "af9a2c32",
   "metadata": {},
   "outputs": [
    {
     "name": "stdout",
     "output_type": "stream",
     "text": [
      "The bootstrap mean is: 0.38938139026938073 \n",
      "the standard error is 0.050125593960204266 and the MSE is 0.01051673598888746\n"
     ]
    },
    {
     "data": {
      "image/png": "[encoded data removed]",
      "text/plain": [
       "<Figure size 432x288 with 1 Axes>"
      ]
     },
     "metadata": {
      "needs_background": "light"
     },
     "output_type": "display_data"
    }
   ],
   "source": [
    "#We have to convert our good ol python lists to dataframes in order to sample\n",
    "import matplotlib.pyplot as plt\n",
    "G_sharpes = pd.Series(GOOG_sharpe)\n",
    "\n",
    "F_sharpes = pd.Series(FB_sharpe)\n",
    "\n",
    "B = 1000\n",
    "boot_stat = np.zeros(B)\n",
    "\n",
    "\n",
    "for b in range(B):\n",
    "    # so here we have to sample from our dataframe\n",
    "    G_boot = G_sharpes.sample(n = len(G_sharpes), replace = True)\n",
    "\n",
    "    F_boot = F_sharpes.sample(n = len(F_sharpes), replace = True)\n",
    "\n",
    "    \n",
    "    cov_hat = np.cov(G_boot,F_boot)[0,1]\n",
    "    \n",
    "    varx_hat = np.var(G_boot)\n",
    "    \n",
    "    vary_hat = np.var(F_boot)\n",
    "    boot_stat[b] = (vary_hat - cov_hat)/(varx_hat + vary_hat - 2*cov_hat)\n",
    "\n",
    "plt.hist(boot_stat, density = 1, facecolor='purple', edgecolor = 'white', alpha=0.5);\n",
    "\n",
    "print(f\"The bootstrap mean is: {boot_stat.mean()} \\nthe standard error is {boot_stat.std()} and the MSE is {boot_stat.var() + (omega - boot_stat.mean())**2 }\")\n"
   ]
  },
  {
   "cell_type": "code",
   "execution_count": 663,
   "id": "229008a4",
   "metadata": {},
   "outputs": [],
   "source": [
    "#Another intersting analysis could be to see how much this changes increasing the block sizes for this purpose let me define some functions\n",
    "#in order to avoid repeating the same code over and over\n",
    "\n",
    "def create_sharpes(index, blocksize):\n",
    "    df = yf.download(index, start=\"2015-01-01\", end=\"2020-01-03\", group_by=\"ticker\") \n",
    "\n",
    "    weekly_perf = 1\n",
    "    sharpes = []\n",
    "    curr_week = []\n",
    "    c = 1\n",
    "    \n",
    "    for i, row in df.iterrows():\n",
    "        \n",
    "        open = row[\"Open\"]\n",
    "        close = row[\"Close\"]\n",
    "        \n",
    "        daily_perf = close/open\n",
    "        weekly_perf *=  (daily_perf)\n",
    "        curr_week.append(daily_perf)\n",
    "        \n",
    "        if c % blocksize == 0:\n",
    "            sharpe = (weekly_perf - 1 - 0.02) / np.array(curr_week).std()\n",
    "            sharpes.append(sharpe)\n",
    "            weekly_perf = 1\n",
    "            curr_week = []\n",
    "        c += 1\n",
    "    return sharpes\n",
    "\n",
    "def bootstrap(arr1,arr2,len_B):\n",
    "    sharpes1 = pd.Series(arr1)\n",
    "\n",
    "    sharpes2 = pd.Series(arr2)\n",
    "\n",
    "    B = len_B\n",
    "    boot_stat = np.zeros(B)\n",
    "\n",
    "\n",
    "    for b in range(B):\n",
    "        # so here we have to sample from our dataframe\n",
    "        G_boot = sharpes1.sample(n = len(sharpes1), replace = True)\n",
    "\n",
    "        F_boot = sharpes2.sample(n = len(sharpes2), replace = True)\n",
    "\n",
    "        \n",
    "        cov_hat = np.cov(G_boot,F_boot)[0,1]\n",
    "        \n",
    "        varx_hat = np.var(G_boot)\n",
    "        \n",
    "        vary_hat = np.var(F_boot)\n",
    "        boot_stat[b] = (vary_hat - cov_hat)/(varx_hat + vary_hat - 2*cov_hat)\n",
    "    return boot_stat\n"
   ]
  },
  {
   "cell_type": "code",
   "execution_count": 673,
   "id": "a4415ad6",
   "metadata": {},
   "outputs": [
    {
     "name": "stdout",
     "output_type": "stream",
     "text": [
      "[*********************100%***********************]  1 of 1 completed\n",
      "[*********************100%***********************]  1 of 1 completed\n",
      "The bootstrap mean is: 0.5058940144670722 \n",
      "the standard error is 0.055290655971443406 and the MSE is 0.0031513902127562722\n"
     ]
    },
    {
     "data": {
      "image/png": "[encoded data removed]",
      "text/plain": [
       "<Figure size 432x288 with 1 Axes>"
      ]
     },
     "metadata": {
      "needs_background": "light"
     },
     "output_type": "display_data"
    }
   ],
   "source": [
    "# So let's try again our analysis with a block size of 15\n",
    "\n",
    "G15_sharpe = create_sharpes(\"GOOG\" , 15)\n",
    "F15_sharpe = create_sharpes(\"FB\" , 15)\n",
    "\n",
    "boot = bootstrap(G15_sharpe, F15_sharpe,1000)\n",
    "\n",
    "cov = np.cov(G15_sharpe,F15_sharpe)[0,1]\n",
    "        \n",
    "varG = np.var(G15_sharpe)\n",
    "\n",
    "varF = np.var(F15_sharpe)\n",
    "omega = (varF - cov)/(varG + varF - 2*cov)\n",
    "        \n",
    "plt.hist(boot, density = 1, facecolor='purple', edgecolor = 'white', alpha=0.5);\n",
    "print(f\"The bootstrap mean is: {boot.mean()} \\nthe standard error is {boot.std()} and the MSE is {boot.var() + (omega - boot.mean())**2 }\")"
   ]
  },
  {
   "cell_type": "code",
   "execution_count": 665,
   "id": "0b5dda7c",
   "metadata": {},
   "outputs": [
    {
     "name": "stdout",
     "output_type": "stream",
     "text": [
      "[*********************100%***********************]  1 of 1 completed\n",
      "[*********************100%***********************]  1 of 1 completed\n",
      "The bootstrap mean is: 0.5174243568103666 \n",
      "the standard error is 0.09121432738009885 and the MSE is 0.008359163335946836\n"
     ]
    },
    {
     "data": {
      "image/png": "[encoded data removed]",
      "text/plain": [
       "<Figure size 432x288 with 1 Axes>"
      ]
     },
     "metadata": {
      "needs_background": "light"
     },
     "output_type": "display_data"
    }
   ],
   "source": [
    "# So let's try again our analysis with a block size of 30\n",
    "\n",
    "G30_sharpe = create_sharpes(\"GOOG\" , 30)\n",
    "F30_sharpe = create_sharpes(\"FB\" , 30)\n",
    "\n",
    "boot = bootstrap(G30_sharpe, F30_sharpe,1000)\n",
    "\n",
    "cov = np.cov(G30_sharpe,F30_sharpe)[0,1]\n",
    "        \n",
    "varG = np.var(G30_sharpe)\n",
    "\n",
    "varF = np.var(F30_sharpe)\n",
    "omega = (varF - cov)/(varG + varF - 2*cov)\n",
    "        \n",
    "\n",
    "plt.hist(boot, density = 1, facecolor='purple', edgecolor = 'white', alpha=0.5);\n",
    "print(f\"The bootstrap mean is: {boot.mean()} \\nthe standard error is {boot.std()} and the MSE is {boot.var() + (omega - boot.mean())**2 }\")"
   ]
  },
  {
   "cell_type": "code",
   "execution_count": 674,
   "id": "8bbc21d8",
   "metadata": {},
   "outputs": [
    {
     "name": "stdout",
     "output_type": "stream",
     "text": [
      "[*********************100%***********************]  1 of 1 completed\n",
      "[*********************100%***********************]  1 of 1 completed\n",
      "The bootstrap mean is: 0.4969167847930487 \n",
      "the standard error is 0.17654111575203055 and the MSE is 0.2028977476439826\n"
     ]
    },
    {
     "data": {
      "image/png": "[encoded data removed]",
      "text/plain": [
       "<Figure size 432x288 with 1 Axes>"
      ]
     },
     "metadata": {
      "needs_background": "light"
     },
     "output_type": "display_data"
    }
   ],
   "source": [
    "\n",
    "G3_sharpe = create_sharpes(\"GOOG\" , 3)\n",
    "F3_sharpe = create_sharpes(\"FB\" , 3)\n",
    "\n",
    "boot = bootstrap(G3_sharpe, G3_sharpe,1000)\n",
    "\n",
    "cov = np.cov(G3_sharpe,F3_sharpe)[0,1]\n",
    "        \n",
    "varG = np.var(G3_sharpe)\n",
    "\n",
    "varF = np.var(F3_sharpe)\n",
    "omega = (varF - cov)/(varG + varF - 2*cov)\n",
    "        \n",
    "\n",
    "\n",
    "plt.hist(boot, density = 1, facecolor='purple', edgecolor = 'white', alpha=0.5)\n",
    "print(f\"The bootstrap mean is: {boot.mean()} \\nthe standard error is {boot.std()} and the MSE is {boot.var() + (omega - boot.mean())**2 }\")"
   ]
  },
  {
   "cell_type": "markdown",
   "id": "094ae3a4",
   "metadata": {},
   "source": [
    "So one issue with the code above is how the performance is calculated is that using the product of the daily performances as a weekly index of performance we are actually losing out on the possible difference of the closing price of one day and opening price of the day after so in the following cell we implemented another version with the rates of closing of one day with the before. As written in the first comment.\n",
    "In this way we have that the product:\n",
    "$$\n",
    "\\prod_{i=2}^{5} \\frac{c_i}{c_{i-1}} = \\frac{c_5}{c_1} \n",
    "$$\n",
    "Where basically i = 1 is monday and i = 5 is friday. \n",
    "So we basically had the strong assumption, in the previous \"create_sharpes\", of selling every day and buying again the next day."
   ]
  },
  {
   "cell_type": "code",
   "execution_count": 667,
   "id": "7af4048f",
   "metadata": {},
   "outputs": [],
   "source": [
    "def create_sharpes_close(index, blocksize):\n",
    "    df = yf.download(index, start=\"2015-01-01\", end=\"2020-01-03\", group_by=\"ticker\") \n",
    "\n",
    "    #mart/lun * merc/mart * giov/merc * ven/giov \n",
    "    weekly_perf = 1\n",
    "    sharpes = []\n",
    "    curr_week = []\n",
    "    c = 1\n",
    "    close1 = 0\n",
    "    add = 0\n",
    "    for i, row in df.iterrows():\n",
    "        close = row[\"Close\"]\n",
    "        \n",
    "        if c == 1 or just_app:\n",
    "            \n",
    "            oldclose = close\n",
    "            c += 1\n",
    "            just_app = False\n",
    "            \n",
    "            continue\n",
    "        \n",
    "        perf = close/oldclose\n",
    "        weekly_perf *= perf\n",
    "        oldclose = close\n",
    "        curr_week.append(perf)\n",
    "        \n",
    "        \n",
    "        if c % blocksize == 0:\n",
    "            sharpe = (weekly_perf - 1 - 0.02) / np.array(curr_week).std()\n",
    "            sharpes.append(sharpe)\n",
    "            add += 1\n",
    "            weekly_perf = 1\n",
    "            curr_week = []\n",
    "            \n",
    "            just_app = True\n",
    "            \n",
    "        c += 1\n",
    "    return sharpes"
   ]
  },
  {
   "cell_type": "code",
   "execution_count": 675,
   "id": "05381471",
   "metadata": {},
   "outputs": [
    {
     "name": "stdout",
     "output_type": "stream",
     "text": [
      "[*********************100%***********************]  1 of 1 completed\n",
      "[*********************100%***********************]  1 of 1 completed\n",
      "The bootstrap mean is: 0.5002044548454071 \n",
      "the standard error is 0.0793904797106597 and the MSE is 0.18076948881143234\n"
     ]
    },
    {
     "data": {
      "image/png": "[encoded data removed]",
      "text/plain": [
       "<Figure size 432x288 with 1 Axes>"
      ]
     },
     "metadata": {
      "needs_background": "light"
     },
     "output_type": "display_data"
    }
   ],
   "source": [
    "\n",
    "G5_sharpe = create_sharpes_close(\"GOOG\" , 5)\n",
    "F5_sharpe = create_sharpes_close(\"FB\" , 5)\n",
    "\n",
    "\n",
    "boot = bootstrap(G5_sharpe, F5_sharpe,1000)\n",
    "\n",
    "plt.hist(boot, density = 1, facecolor='purple', edgecolor = 'white', alpha=0.5)\n",
    "print(f\"The bootstrap mean is: {boot.mean()} \\nthe standard error is {boot.std()} and the MSE is {boot.var() + (omega - boot.mean())**2 }\")"
   ]
  },
  {
   "cell_type": "code",
   "execution_count": 669,
   "id": "437e608c",
   "metadata": {},
   "outputs": [
    {
     "name": "stdout",
     "output_type": "stream",
     "text": [
      "[*********************100%***********************]  1 of 1 completed\n",
      "[*********************100%***********************]  1 of 1 completed\n",
      "The bootstrap mean is: 0.6210436756495181 \n",
      "the standard error is 0.17943063239656207 and the MSE is 0.32221127104507474\n"
     ]
    },
    {
     "data": {
      "image/png": "[encoded data removed]",
      "text/plain": [
       "<Figure size 432x288 with 1 Axes>"
      ]
     },
     "metadata": {
      "needs_background": "light"
     },
     "output_type": "display_data"
    }
   ],
   "source": [
    "# I just wanted to see what would happen if we only had 10 blocks, probably as we have less and less blocks our bootstrapped \\omega will continue \n",
    "# to increase and the errors keep getting bigger\n",
    "G126_sharpe = create_sharpes_close(\"GOOG\" ,126)\n",
    "F126_sharpe = create_sharpes_close(\"FB\" , 126)\n",
    "\n",
    "\n",
    "boot = bootstrap(G126_sharpe, F126_sharpe,1000)\n",
    "\n",
    "plt.hist(boot, density = 1, facecolor='purple', edgecolor = 'white', alpha=0.5)\n",
    "print(f\"The bootstrap mean is: {boot.mean()} \\nthe standard error is {boot.std()} and the MSE is {boot.var() + (omega - boot.mean())**2 }\")"
   ]
  },
  {
   "cell_type": "markdown",
   "id": "60c052c9",
   "metadata": {},
   "source": [
    "The result is pretty much consistent among the sharpe examples but is quite far from the first time we calculated $\\omega$ and still far but surely closer to the first bootstrapped $\\omega$. Still this result is probably more reliable since we are bootstrapping the time series in blocks taking into account the temporal dependencies of time series by bootstrapping in blocks. Sorry if this addendum was way bigger than it should have been but I got a bit carried away."
   ]
  }
 ],
 "metadata": {
  "kernelspec": {
   "display_name": "Python 3 (ipykernel)",
   "language": "python",
   "name": "python3"
  },
  "language_info": {
   "codemirror_mode": {
    "name": "ipython",
    "version": 3
   },
   "file_extension": ".py",
   "mimetype": "text/x-python",
   "name": "python",
   "nbconvert_exporter": "python",
   "pygments_lexer": "ipython3",
   "version": "3.8.3"
  }
 },
 "nbformat": 4,
 "nbformat_minor": 5
}
