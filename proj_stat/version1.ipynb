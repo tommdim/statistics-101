{
 "cells": [
  {
   "cell_type": "code",
   "execution_count": 205,
   "metadata": {},
   "outputs": [],
   "source": [
    "import chess\n",
    "import chess.pgn\n",
    "import pandas as pd\n",
    "import numpy as np\n",
    "import chess.engine\n",
    "from stockfish import Stockfish\n"
   ]
  },
  {
   "cell_type": "code",
   "execution_count": 206,
   "metadata": {},
   "outputs": [],
   "source": [
    "def get_evaluation(board,move):\n",
    "\n",
    "    stockfish = Stockfish()     #if no parameter passed, takes as input the executable file called stockfish from the same directory, if found\n",
    "    board.push_san(move)        #insert the move in the board\n",
    "    stockfish.set_fen_position(board.fen())  #bpard.fen() applies a PGN to FEN conversion\n",
    "    evaluation = stockfish.get_evaluation()['value']/100\n",
    "\n",
    "    # engine = chess.engine.SimpleEngine.popen_uci(\"stockfish\")\n",
    "    # handler = chess.uci.InfoHandler()\n",
    "    # engine = chess.uci.popen_engine('stockfish') #give correct address of your engine here\n",
    "    # engine.info_handlers.append(handler)\n",
    "    # engine.position(board)\n",
    "    # evaltime = 2000 #so 5 seconds\n",
    "    # evaluation = engine.go(movetime=evaltime)\n",
    "    # info = engine.analyse(board,chess.engine.Limit(time=0.1))  \n",
    "    # print(info[\"score\"])\n",
    "    # result = engine.analyse(board, chess.engine.Limit(time=0.01))\n",
    "\n",
    "    return board, evaluation"
   ]
  },
  {
   "cell_type": "code",
   "execution_count": 207,
   "metadata": {},
   "outputs": [
    {
     "name": "stdout",
     "output_type": "stream",
     "text": [
      "r n b q k b n r\n",
      "p p p p p p p p\n",
      ". . . . . . . .\n",
      ". . . . . . . .\n",
      ". . . . P . . .\n",
      ". . . . . . . .\n",
      "P P P P . P P P\n",
      "R N B Q K B N R\n"
     ]
    },
    {
     "ename": "AttributeError",
     "evalue": "'float' object has no attribute 'push_san'",
     "output_type": "error",
     "traceback": [
      "\u001b[1;31m---------------------------------------------------------------------------\u001b[0m",
      "\u001b[1;31mAttributeError\u001b[0m                            Traceback (most recent call last)",
      "\u001b[1;32m~\\AppData\\Local\\Temp/ipykernel_2800/3464197927.py\u001b[0m in \u001b[0;36m<module>\u001b[1;34m\u001b[0m\n\u001b[0;32m     43\u001b[0m \u001b[1;33m\u001b[0m\u001b[0m\n\u001b[0;32m     44\u001b[0m \u001b[1;33m\u001b[0m\u001b[0m\n\u001b[1;32m---> 45\u001b[1;33m \u001b[0mdf\u001b[0m\u001b[1;33m,\u001b[0m\u001b[0mlista\u001b[0m\u001b[1;33m,\u001b[0m\u001b[0mboard\u001b[0m \u001b[1;33m=\u001b[0m \u001b[0mcreate_dataFrame\u001b[0m\u001b[1;33m(\u001b[0m\u001b[1;34m\"valesepicacchi_vs_dmac5555_2022.05.07 (1).pgn\"\u001b[0m\u001b[1;33m)\u001b[0m\u001b[1;33m\u001b[0m\u001b[1;33m\u001b[0m\u001b[0m\n\u001b[0m\u001b[0;32m     46\u001b[0m \u001b[1;31m#df\u001b[0m\u001b[1;33m\u001b[0m\u001b[1;33m\u001b[0m\u001b[0m\n\u001b[0;32m     47\u001b[0m \u001b[1;33m\u001b[0m\u001b[0m\n",
      "\u001b[1;32m~\\AppData\\Local\\Temp/ipykernel_2800/3464197927.py\u001b[0m in \u001b[0;36mcreate_dataFrame\u001b[1;34m(game_name)\u001b[0m\n\u001b[0;32m     18\u001b[0m \u001b[1;33m\u001b[0m\u001b[0m\n\u001b[0;32m     19\u001b[0m         \u001b[0mmove\u001b[0m \u001b[1;33m=\u001b[0m \u001b[0mstr\u001b[0m\u001b[1;33m(\u001b[0m\u001b[0mnode\u001b[0m\u001b[1;33m.\u001b[0m\u001b[0mmove\u001b[0m\u001b[1;33m)\u001b[0m       \u001b[1;31m#represents the last move\u001b[0m\u001b[1;33m\u001b[0m\u001b[1;33m\u001b[0m\u001b[0m\n\u001b[1;32m---> 20\u001b[1;33m         \u001b[0mevaluation\u001b[0m\u001b[1;33m,\u001b[0m\u001b[0mboard\u001b[0m \u001b[1;33m=\u001b[0m \u001b[0mget_evaluation\u001b[0m\u001b[1;33m(\u001b[0m\u001b[0mboard\u001b[0m\u001b[1;33m,\u001b[0m\u001b[0mmove\u001b[0m\u001b[1;33m)\u001b[0m\u001b[1;33m\u001b[0m\u001b[1;33m\u001b[0m\u001b[0m\n\u001b[0m\u001b[0;32m     21\u001b[0m \u001b[1;33m\u001b[0m\u001b[0m\n\u001b[0;32m     22\u001b[0m         \u001b[1;32mif\u001b[0m \u001b[0mi\u001b[0m\u001b[1;33m%\u001b[0m\u001b[1;36m2\u001b[0m \u001b[1;33m==\u001b[0m \u001b[1;36m0\u001b[0m\u001b[1;33m:\u001b[0m        \u001b[1;31m#if the white is moving we update his time\u001b[0m\u001b[1;33m\u001b[0m\u001b[1;33m\u001b[0m\u001b[0m\n",
      "\u001b[1;32m~\\AppData\\Local\\Temp/ipykernel_2800/3306181669.py\u001b[0m in \u001b[0;36mget_evaluation\u001b[1;34m(board, move)\u001b[0m\n\u001b[0;32m      2\u001b[0m \u001b[1;33m\u001b[0m\u001b[0m\n\u001b[0;32m      3\u001b[0m     \u001b[0mstockfish\u001b[0m \u001b[1;33m=\u001b[0m \u001b[0mStockfish\u001b[0m\u001b[1;33m(\u001b[0m\u001b[1;33m)\u001b[0m     \u001b[1;31m#if no parameter passed, takes as input the executable file called stockfish from the same directory, if found\u001b[0m\u001b[1;33m\u001b[0m\u001b[1;33m\u001b[0m\u001b[0m\n\u001b[1;32m----> 4\u001b[1;33m     \u001b[0mboard\u001b[0m\u001b[1;33m.\u001b[0m\u001b[0mpush_san\u001b[0m\u001b[1;33m(\u001b[0m\u001b[0mmove\u001b[0m\u001b[1;33m)\u001b[0m        \u001b[1;31m#insert the move in the board\u001b[0m\u001b[1;33m\u001b[0m\u001b[1;33m\u001b[0m\u001b[0m\n\u001b[0m\u001b[0;32m      5\u001b[0m     \u001b[0mstockfish\u001b[0m\u001b[1;33m.\u001b[0m\u001b[0mset_fen_position\u001b[0m\u001b[1;33m(\u001b[0m\u001b[0mboard\u001b[0m\u001b[1;33m.\u001b[0m\u001b[0mfen\u001b[0m\u001b[1;33m(\u001b[0m\u001b[1;33m)\u001b[0m\u001b[1;33m)\u001b[0m  \u001b[1;31m#bpard.fen() applies a PGN to FEN conversion\u001b[0m\u001b[1;33m\u001b[0m\u001b[1;33m\u001b[0m\u001b[0m\n\u001b[0;32m      6\u001b[0m     \u001b[0mevaluation\u001b[0m \u001b[1;33m=\u001b[0m \u001b[0mstockfish\u001b[0m\u001b[1;33m.\u001b[0m\u001b[0mget_evaluation\u001b[0m\u001b[1;33m(\u001b[0m\u001b[1;33m)\u001b[0m\u001b[1;33m[\u001b[0m\u001b[1;34m'value'\u001b[0m\u001b[1;33m]\u001b[0m\u001b[1;33m/\u001b[0m\u001b[1;36m100\u001b[0m\u001b[1;33m\u001b[0m\u001b[1;33m\u001b[0m\u001b[0m\n",
      "\u001b[1;31mAttributeError\u001b[0m: 'float' object has no attribute 'push_san'"
     ]
    }
   ],
   "source": [
    "#create_dataFrame takes as input the name of the file pgn containing the game and returns a dataframe\n",
    "def create_dataFrame(game_name): \n",
    "\n",
    "    #opens and reads the pgn file\n",
    "    pgn = open(game_name) \n",
    "    game = chess.pgn.read_game(pgn)\n",
    "    \n",
    "                                   \n",
    "    array = []      #initialize the array that will contain the data\n",
    "    index_values = [] \n",
    "    i=0\n",
    "    time_white = 0      #to keep track of the time for each player\n",
    "    time_black = 0      #to keep track of the time for each player\n",
    "    board = chess.Board()       #initialize the chessboard\n",
    "\n",
    "    #iterate through the moves\n",
    "    for node in game.mainline():        \n",
    "\n",
    "        move = str(node.move)       #represents the last move\n",
    "        evaluation,board = get_evaluation(board,move)\n",
    "\n",
    "        if i%2 == 0:        #if the white is moving we update his time\n",
    "            index_values.append(\"white\")\n",
    "            time_white = 600-node.clock()\n",
    "\n",
    "        else:           #if the black is moving we update his time\n",
    "            index_values.append(\"black\") \n",
    "            time_black = 600-node.clock()\n",
    "\n",
    "        #evaluation = get_evaluation(board,move)\n",
    "        #we append an element in the array (a row in the dataframe) with move, time the player used, total time since the game started and evaluation of the position\n",
    "        array.append([str(node.move),round(600-node.clock(),4),round(time_white+time_black,4),evaluation])   #stockfish.get_evaluation()['value']]\n",
    "        i+=1\n",
    "\n",
    "        print(evaluation)\n",
    "        #print(result['score'])  \n",
    "\n",
    "    column_values = ['move','time','real time','evaluation'] #create the columns names\n",
    "    array = np.array(array) #convert our array to a numpy array\n",
    "    #create a dataframe\n",
    "    df = pd.DataFrame(data = array, index = index_values, columns = column_values) \n",
    "    return df,lista,board\n",
    "\n",
    "\n",
    "df,lista,board = create_dataFrame(\"valesepicacchi_vs_dmac5555_2022.05.07 (1).pgn\")   \n",
    "#df\n",
    "\n"
   ]
  },
  {
   "cell_type": "code",
   "execution_count": null,
   "metadata": {},
   "outputs": [
    {
     "name": "stdout",
     "output_type": "stream",
     "text": [
      "{'depth': 0, 'score': PovScore(Mate(-0), BLACK)}\n"
     ]
    }
   ],
   "source": [
    "\n"
   ]
  },
  {
   "cell_type": "code",
   "execution_count": null,
   "metadata": {},
   "outputs": [],
   "source": []
  }
 ],
 "metadata": {
  "interpreter": {
   "hash": "304f387182ca3cfeee3d122e75d13887c5092c4eecb89d434c920d506bb5a9d9"
  },
  "kernelspec": {
   "display_name": "Python 3.9.7 ('base')",
   "language": "python",
   "name": "python3"
  },
  "language_info": {
   "codemirror_mode": {
    "name": "ipython",
    "version": 3
   },
   "file_extension": ".py",
   "mimetype": "text/x-python",
   "name": "python",
   "nbconvert_exporter": "python",
   "pygments_lexer": "ipython3",
   "version": "3.9.7"
  },
  "orig_nbformat": 4
 },
 "nbformat": 4,
 "nbformat_minor": 2
}
