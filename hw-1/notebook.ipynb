{
 "cells": [
  {
   "cell_type": "markdown",
   "metadata": {},
   "source": [
    "# Homework 1 \n",
    "## 23/03/2022\n",
    "### Federica Valeau, Tommaso Di Mario, Valeria Sepicacchi."
   ]
  }
 ],
 "metadata": {
  "interpreter": {
   "hash": "e3ccc17e32a1c91310c72ba0c9fea0a0010dc291ff263c9695a8c84d3366cb60"
  },
  "kernelspec": {
   "display_name": "Python 3.8.3 ('base')",
   "language": "python",
   "name": "python3"
  },
  "language_info": {
   "name": "python",
   "version": "3.8.3"
  },
  "orig_nbformat": 4
 },
 "nbformat": 4,
 "nbformat_minor": 2
}
